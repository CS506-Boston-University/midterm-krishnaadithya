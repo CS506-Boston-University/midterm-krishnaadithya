{
 "cells": [
  {
   "cell_type": "code",
   "execution_count": 1,
   "metadata": {
    "execution": {
     "iopub.execute_input": "2022-11-08T03:04:31.405025Z",
     "iopub.status.busy": "2022-11-08T03:04:31.404507Z",
     "iopub.status.idle": "2022-11-08T03:04:33.950873Z",
     "shell.execute_reply": "2022-11-08T03:04:33.948450Z",
     "shell.execute_reply.started": "2022-11-08T03:04:31.404926Z"
    }
   },
   "outputs": [],
   "source": [
    "\n",
    "import numpy as np \n",
    "import pandas as pd \n",
    "import matplotlib.pyplot as plt\n",
    "\n",
    "import os, sys\n",
    "from nltk.tokenize import TweetTokenizer\n",
    "import tqdm\n",
    "import re\n",
    "import copy\n",
    "\n",
    "\n",
    "import matplotlib\n",
    "import matplotlib.pyplot as plt\n",
    "\n",
    "import tqdm\n",
    "\n",
    "from wordcloud import WordCloud\n",
    "\n",
    "import gc\n",
    "from sklearn.metrics import f1_score\n",
    "from sklearn.model_selection import StratifiedKFold\n",
    "from sklearn.metrics import accuracy_score,classification_report, confusion_matrix\n",
    "\n",
    "\n",
    "import pickle\n",
    "\n",
    "#import cudf #turn on gpu to work\n",
    "\n",
    "import seaborn as sns\n",
    "color = sns.color_palette()\n",
    "\n",
    "from sklearn.pipeline import Pipeline\n",
    "from sklearn.feature_extraction.text import TfidfVectorizer, CountVectorizer, TfidfTransformer\n",
    "from sklearn.ensemble import RandomForestClassifier\n",
    "from sklearn.svm import LinearSVC\n",
    "\n",
    "from sklearn.model_selection import train_test_split\n",
    "\n",
    "\n",
    "\n",
    "\n",
    "%matplotlib inline"
   ]
  },
  {
   "cell_type": "code",
   "execution_count": 4,
   "metadata": {
    "execution": {
     "iopub.execute_input": "2022-11-08T03:05:13.330970Z",
     "iopub.status.busy": "2022-11-08T03:05:13.329851Z",
     "iopub.status.idle": "2022-11-08T03:05:58.002077Z",
     "shell.execute_reply": "2022-11-08T03:05:58.000679Z",
     "shell.execute_reply.started": "2022-11-08T03:05:13.330922Z"
    }
   },
   "outputs": [],
   "source": [
    "train = pd.read_csv(\"data/train.csv\")\n",
    "test = pd.read_csv(\"data/test.csv\")\n",
    "#sample = pd.read_csv(\"sample.csv\")\n",
    "\n"
   ]
  },
  {
   "cell_type": "code",
   "execution_count": 6,
   "metadata": {
    "execution": {
     "iopub.execute_input": "2022-11-08T03:08:43.171020Z",
     "iopub.status.busy": "2022-11-08T03:08:43.170513Z",
     "iopub.status.idle": "2022-11-08T03:08:43.865025Z",
     "shell.execute_reply": "2022-11-08T03:08:43.863825Z",
     "shell.execute_reply.started": "2022-11-08T03:08:43.170979Z"
    }
   },
   "outputs": [],
   "source": [
    "test_new = test.join(train, on='Id', how = 'inner',lsuffix='test_data', rsuffix='train_new')"
   ]
  },
  {
   "cell_type": "code",
   "execution_count": 7,
   "metadata": {
    "execution": {
     "iopub.execute_input": "2022-11-08T03:08:45.724993Z",
     "iopub.status.busy": "2022-11-08T03:08:45.724520Z",
     "iopub.status.idle": "2022-11-08T03:08:45.753078Z",
     "shell.execute_reply": "2022-11-08T03:08:45.751738Z",
     "shell.execute_reply.started": "2022-11-08T03:08:45.724953Z"
    }
   },
   "outputs": [
    {
     "data": {
      "text/html": [
       "<div>\n",
       "<style scoped>\n",
       "    .dataframe tbody tr th:only-of-type {\n",
       "        vertical-align: middle;\n",
       "    }\n",
       "\n",
       "    .dataframe tbody tr th {\n",
       "        vertical-align: top;\n",
       "    }\n",
       "\n",
       "    .dataframe thead th {\n",
       "        text-align: right;\n",
       "    }\n",
       "</style>\n",
       "<table border=\"1\" class=\"dataframe\">\n",
       "  <thead>\n",
       "    <tr style=\"text-align: right;\">\n",
       "      <th></th>\n",
       "      <th>Id</th>\n",
       "      <th>ProductId</th>\n",
       "      <th>UserId</th>\n",
       "      <th>HelpfulnessNumerator</th>\n",
       "      <th>HelpfulnessDenominator</th>\n",
       "      <th>Score</th>\n",
       "      <th>Time</th>\n",
       "      <th>Summary</th>\n",
       "      <th>Text</th>\n",
       "    </tr>\n",
       "  </thead>\n",
       "  <tbody>\n",
       "    <tr>\n",
       "      <th>0</th>\n",
       "      <td>0</td>\n",
       "      <td>0005019281</td>\n",
       "      <td>ADZPIG9QOCDG5</td>\n",
       "      <td>0</td>\n",
       "      <td>0</td>\n",
       "      <td>4.0</td>\n",
       "      <td>1203984000</td>\n",
       "      <td>good version of a classic</td>\n",
       "      <td>This is a charming version of the classic Dick...</td>\n",
       "    </tr>\n",
       "    <tr>\n",
       "      <th>1</th>\n",
       "      <td>1</td>\n",
       "      <td>0005019281</td>\n",
       "      <td>A35947ZP82G7JH</td>\n",
       "      <td>0</td>\n",
       "      <td>0</td>\n",
       "      <td>3.0</td>\n",
       "      <td>1388361600</td>\n",
       "      <td>Good but not as moving</td>\n",
       "      <td>It was good but not as emotionally moving as t...</td>\n",
       "    </tr>\n",
       "    <tr>\n",
       "      <th>2</th>\n",
       "      <td>2</td>\n",
       "      <td>0005019281</td>\n",
       "      <td>A3UORV8A9D5L2E</td>\n",
       "      <td>0</td>\n",
       "      <td>0</td>\n",
       "      <td>3.0</td>\n",
       "      <td>1388361600</td>\n",
       "      <td>Winkler's Performance was ok at best!</td>\n",
       "      <td>Don't get me wrong, Winkler is a wonderful cha...</td>\n",
       "    </tr>\n",
       "    <tr>\n",
       "      <th>3</th>\n",
       "      <td>3</td>\n",
       "      <td>0005019281</td>\n",
       "      <td>A1VKW06X1O2X7V</td>\n",
       "      <td>0</td>\n",
       "      <td>0</td>\n",
       "      <td>5.0</td>\n",
       "      <td>1202860800</td>\n",
       "      <td>It's an enjoyable twist on the classic story</td>\n",
       "      <td>Henry Winkler is very good in this twist on th...</td>\n",
       "    </tr>\n",
       "    <tr>\n",
       "      <th>4</th>\n",
       "      <td>4</td>\n",
       "      <td>0005019281</td>\n",
       "      <td>A3R27T4HADWFFJ</td>\n",
       "      <td>0</td>\n",
       "      <td>0</td>\n",
       "      <td>4.0</td>\n",
       "      <td>1387670400</td>\n",
       "      <td>Best Scrooge yet</td>\n",
       "      <td>This is one of the best Scrooge movies out.  H...</td>\n",
       "    </tr>\n",
       "  </tbody>\n",
       "</table>\n",
       "</div>"
      ],
      "text/plain": [
       "   Id   ProductId          UserId  HelpfulnessNumerator  \\\n",
       "0   0  0005019281   ADZPIG9QOCDG5                     0   \n",
       "1   1  0005019281  A35947ZP82G7JH                     0   \n",
       "2   2  0005019281  A3UORV8A9D5L2E                     0   \n",
       "3   3  0005019281  A1VKW06X1O2X7V                     0   \n",
       "4   4  0005019281  A3R27T4HADWFFJ                     0   \n",
       "\n",
       "   HelpfulnessDenominator  Score        Time  \\\n",
       "0                       0    4.0  1203984000   \n",
       "1                       0    3.0  1388361600   \n",
       "2                       0    3.0  1388361600   \n",
       "3                       0    5.0  1202860800   \n",
       "4                       0    4.0  1387670400   \n",
       "\n",
       "                                        Summary  \\\n",
       "0                     good version of a classic   \n",
       "1                        Good but not as moving   \n",
       "2         Winkler's Performance was ok at best!   \n",
       "3  It's an enjoyable twist on the classic story   \n",
       "4                              Best Scrooge yet   \n",
       "\n",
       "                                                Text  \n",
       "0  This is a charming version of the classic Dick...  \n",
       "1  It was good but not as emotionally moving as t...  \n",
       "2  Don't get me wrong, Winkler is a wonderful cha...  \n",
       "3  Henry Winkler is very good in this twist on th...  \n",
       "4  This is one of the best Scrooge movies out.  H...  "
      ]
     },
     "execution_count": 7,
     "metadata": {},
     "output_type": "execute_result"
    }
   ],
   "source": [
    "train.head()"
   ]
  },
  {
   "cell_type": "code",
   "execution_count": 8,
   "metadata": {
    "execution": {
     "iopub.execute_input": "2022-11-08T03:08:47.989654Z",
     "iopub.status.busy": "2022-11-08T03:08:47.989142Z",
     "iopub.status.idle": "2022-11-08T03:08:48.303508Z",
     "shell.execute_reply": "2022-11-08T03:08:48.302638Z",
     "shell.execute_reply.started": "2022-11-08T03:08:47.989614Z"
    }
   },
   "outputs": [
    {
     "data": {
      "text/plain": [
       "<AxesSubplot:title={'center':'Scores'}>"
      ]
     },
     "execution_count": 8,
     "metadata": {},
     "output_type": "execute_result"
    },
    {
     "data": {
      "image/png": "[encoded data removed]",
      "text/plain": [
       "<Figure size 432x288 with 1 Axes>"
      ]
     },
     "metadata": {
      "needs_background": "light"
     },
     "output_type": "display_data"
    }
   ],
   "source": [
    "plt.title('Scores')\n",
    "train['Score'].value_counts().plot.bar()"
   ]
  },
  {
   "cell_type": "code",
   "execution_count": 9,
   "metadata": {
    "execution": {
     "iopub.execute_input": "2022-11-08T03:08:49.691060Z",
     "iopub.status.busy": "2022-11-08T03:08:49.690084Z",
     "iopub.status.idle": "2022-11-08T03:08:49.696028Z",
     "shell.execute_reply": "2022-11-08T03:08:49.695048Z",
     "shell.execute_reply.started": "2022-11-08T03:08:49.691007Z"
    }
   },
   "outputs": [],
   "source": [
    "stop = ['a','an','the','and','this','that']"
   ]
  },
  {
   "cell_type": "code",
   "execution_count": 10,
   "metadata": {
    "execution": {
     "iopub.execute_input": "2022-11-08T03:08:50.664325Z",
     "iopub.status.busy": "2022-11-08T03:08:50.663182Z",
     "iopub.status.idle": "2022-11-08T03:08:51.476138Z",
     "shell.execute_reply": "2022-11-08T03:08:51.474825Z",
     "shell.execute_reply.started": "2022-11-08T03:08:50.664247Z"
    }
   },
   "outputs": [
    {
     "data": {
      "image/png": "[encoded data removed]",
      "text/plain": [
       "<Figure size 1008x720 with 2 Axes>"
      ]
     },
     "metadata": {
      "needs_background": "light"
     },
     "output_type": "display_data"
    }
   ],
   "source": [
    "fig = plt.figure(figsize=(14, 10))\n",
    "ax = fig.add_subplot(121)\n",
    "text = train.Summary.values\n",
    "wordcloud = WordCloud(\n",
    "    background_color = 'black',\n",
    "    stopwords = stop).generate(str(text))\n",
    "plt.title('Summary Keywords')\n",
    "plt.imshow(wordcloud, interpolation = 'bilinear')\n",
    "plt.axis('off')\n",
    "plt.tight_layout(pad=0)\n",
    "\n",
    "ax = fig.add_subplot(122)\n",
    "text = train.Text.values\n",
    "wordcloud = WordCloud(\n",
    "    background_color = 'white',\n",
    "    stopwords = stop).generate(str(text))\n",
    "plt.title('Text Keywords')\n",
    "plt.imshow(wordcloud, interpolation = 'bilinear')\n",
    "plt.axis('off')\n",
    "plt.tight_layout(pad=0)\n",
    "plt.show()"
   ]
  },
  {
   "cell_type": "markdown",
   "metadata": {
    "execution": {
     "iopub.execute_input": "2022-11-08T02:42:14.189201Z",
     "iopub.status.busy": "2022-11-08T02:42:14.188694Z",
     "iopub.status.idle": "2022-11-08T02:42:14.194283Z",
     "shell.execute_reply": "2022-11-08T02:42:14.193239Z",
     "shell.execute_reply.started": "2022-11-08T02:42:14.189159Z"
    }
   },
   "source": [
    "## Preprocessing Train Data"
   ]
  },
  {
   "cell_type": "code",
   "execution_count": 11,
   "metadata": {
    "execution": {
     "iopub.execute_input": "2022-11-08T03:08:54.008792Z",
     "iopub.status.busy": "2022-11-08T03:08:54.008231Z",
     "iopub.status.idle": "2022-11-08T03:08:54.584116Z",
     "shell.execute_reply": "2022-11-08T03:08:54.582623Z",
     "shell.execute_reply.started": "2022-11-08T03:08:54.008744Z"
    }
   },
   "outputs": [
    {
     "data": {
      "text/html": [
       "<div>\n",
       "<style scoped>\n",
       "    .dataframe tbody tr th:only-of-type {\n",
       "        vertical-align: middle;\n",
       "    }\n",
       "\n",
       "    .dataframe tbody tr th {\n",
       "        vertical-align: top;\n",
       "    }\n",
       "\n",
       "    .dataframe thead th {\n",
       "        text-align: right;\n",
       "    }\n",
       "</style>\n",
       "<table border=\"1\" class=\"dataframe\">\n",
       "  <thead>\n",
       "    <tr style=\"text-align: right;\">\n",
       "      <th></th>\n",
       "      <th>Score</th>\n",
       "      <th>Text</th>\n",
       "    </tr>\n",
       "  </thead>\n",
       "  <tbody>\n",
       "    <tr>\n",
       "      <th>0</th>\n",
       "      <td>4.0</td>\n",
       "      <td>This is a charming version of the classic Dick...</td>\n",
       "    </tr>\n",
       "    <tr>\n",
       "      <th>1</th>\n",
       "      <td>3.0</td>\n",
       "      <td>It was good but not as emotionally moving as t...</td>\n",
       "    </tr>\n",
       "    <tr>\n",
       "      <th>2</th>\n",
       "      <td>3.0</td>\n",
       "      <td>Don't get me wrong, Winkler is a wonderful cha...</td>\n",
       "    </tr>\n",
       "    <tr>\n",
       "      <th>3</th>\n",
       "      <td>5.0</td>\n",
       "      <td>Henry Winkler is very good in this twist on th...</td>\n",
       "    </tr>\n",
       "    <tr>\n",
       "      <th>4</th>\n",
       "      <td>4.0</td>\n",
       "      <td>This is one of the best Scrooge movies out.  H...</td>\n",
       "    </tr>\n",
       "  </tbody>\n",
       "</table>\n",
       "</div>"
      ],
      "text/plain": [
       "   Score                                               Text\n",
       "0    4.0  This is a charming version of the classic Dick...\n",
       "1    3.0  It was good but not as emotionally moving as t...\n",
       "2    3.0  Don't get me wrong, Winkler is a wonderful cha...\n",
       "3    5.0  Henry Winkler is very good in this twist on th...\n",
       "4    4.0  This is one of the best Scrooge movies out.  H..."
      ]
     },
     "execution_count": 11,
     "metadata": {},
     "output_type": "execute_result"
    }
   ],
   "source": [
    "train = train[['Score','Text']]\n",
    "\n",
    "train = train.dropna() #dropping Null values\n",
    "train.head()"
   ]
  },
  {
   "cell_type": "code",
   "execution_count": 12,
   "metadata": {
    "execution": {
     "iopub.execute_input": "2022-11-08T03:08:56.850094Z",
     "iopub.status.busy": "2022-11-08T03:08:56.849650Z",
     "iopub.status.idle": "2022-11-08T03:12:00.014392Z",
     "shell.execute_reply": "2022-11-08T03:12:00.012781Z",
     "shell.execute_reply.started": "2022-11-08T03:08:56.850061Z"
    }
   },
   "outputs": [
    {
     "name": "stderr",
     "output_type": "stream",
     "text": [
      "/opt/conda/lib/python3.7/site-packages/ipykernel_launcher.py:4: TqdmDeprecationWarning: This function will be removed in tqdm==5.0.0\n",
      "Please use `tqdm.notebook.tqdm` instead of `tqdm.tqdm_notebook`\n",
      "  after removing the cwd from sys.path.\n"
     ]
    },
    {
     "data": {
      "application/vnd.jupyter.widget-view+json": {
       "model_id": "703309b2d7a84536acf7822244365044",
       "version_major": 2,
       "version_minor": 0
      },
      "text/plain": [
       "  0%|          | 0/1397480 [00:00<?, ?it/s]"
      ]
     },
     "metadata": {},
     "output_type": "display_data"
    },
    {
     "name": "stderr",
     "output_type": "stream",
     "text": [
      "/opt/conda/lib/python3.7/site-packages/ipykernel_launcher.py:16: TqdmDeprecationWarning: This function will be removed in tqdm==5.0.0\n",
      "Please use `tqdm.notebook.tqdm` instead of `tqdm.tqdm_notebook`\n",
      "  \n"
     ]
    },
    {
     "data": {
      "application/vnd.jupyter.widget-view+json": {
       "model_id": "426f091c483f46cf90274a30f4a42b12",
       "version_major": 2,
       "version_minor": 0
      },
      "text/plain": [
       "  0%|          | 0/1397480 [00:00<?, ?it/s]"
      ]
     },
     "metadata": {},
     "output_type": "display_data"
    },
    {
     "data": {
      "text/html": [
       "<div>\n",
       "<style scoped>\n",
       "    .dataframe tbody tr th:only-of-type {\n",
       "        vertical-align: middle;\n",
       "    }\n",
       "\n",
       "    .dataframe tbody tr th {\n",
       "        vertical-align: top;\n",
       "    }\n",
       "\n",
       "    .dataframe thead th {\n",
       "        text-align: right;\n",
       "    }\n",
       "</style>\n",
       "<table border=\"1\" class=\"dataframe\">\n",
       "  <thead>\n",
       "    <tr style=\"text-align: right;\">\n",
       "      <th></th>\n",
       "      <th>Score</th>\n",
       "      <th>Text</th>\n",
       "    </tr>\n",
       "  </thead>\n",
       "  <tbody>\n",
       "    <tr>\n",
       "      <th>0</th>\n",
       "      <td>4.0</td>\n",
       "      <td>[is, charming, version, of, classic, dickens, ...</td>\n",
       "    </tr>\n",
       "    <tr>\n",
       "      <th>1</th>\n",
       "      <td>3.0</td>\n",
       "      <td>[it, was, good, but, not, as, emotionally, mov...</td>\n",
       "    </tr>\n",
       "    <tr>\n",
       "      <th>2</th>\n",
       "      <td>3.0</td>\n",
       "      <td>[dont, get, me, wrong, winkler, is, wonderful,...</td>\n",
       "    </tr>\n",
       "    <tr>\n",
       "      <th>3</th>\n",
       "      <td>5.0</td>\n",
       "      <td>[henry, winkler, is, very, good, in, twist, on...</td>\n",
       "    </tr>\n",
       "    <tr>\n",
       "      <th>4</th>\n",
       "      <td>4.0</td>\n",
       "      <td>[is, one, of, best, scrooge, movies, out, henr...</td>\n",
       "    </tr>\n",
       "  </tbody>\n",
       "</table>\n",
       "</div>"
      ],
      "text/plain": [
       "   Score                                               Text\n",
       "0    4.0  [is, charming, version, of, classic, dickens, ...\n",
       "1    3.0  [it, was, good, but, not, as, emotionally, mov...\n",
       "2    3.0  [dont, get, me, wrong, winkler, is, wonderful,...\n",
       "3    5.0  [henry, winkler, is, very, good, in, twist, on...\n",
       "4    4.0  [is, one, of, best, scrooge, movies, out, henr..."
      ]
     },
     "execution_count": 12,
     "metadata": {},
     "output_type": "execute_result"
    }
   ],
   "source": [
    "#Converting sentences to tokens for text processing\n",
    "p = re.compile(r'[^\\w\\s]+')\n",
    "#train['Text'] = [p.sub('', x) for x in tqdm.tqdm_notebook(train['Text'].to_arrow().to_pylist())] #gpu\n",
    "train['Text'] = [p.sub('', x) for x in tqdm.tqdm_notebook(train['Text'].tolist())] #cpu\n",
    "\n",
    "train['Text'] = train['Text'].str.lower().str.split()\n",
    "\n",
    "\n",
    "#Remove Stop words\n",
    "\n",
    "stop = ['a','an','the','and','this','that']\n",
    "\n",
    "#stop = ['no', 'nor', 'not', 'ain', 'aren', \"aren't\", 'couldn', 'what', 'which', 'who','whom','why', 'how', \"couldn't\", 'didn', \"didn't\", 'doesn', \"doesn't\", 'hadn', \"hadn't\",'hasn',\"hasn't\", 'haven', \"haven't\", 'isn', \"isn't\", 'ma', 'mightn', \"mightn't\", 'mustn'\"mustn't\", 'needn', \"needn't\", 'shan', \"shan't\", 'shouldn', \"shouldn't\", 'wasn',\"wasn't\",\n",
    "#'weren', \"weren't\", 'won', \"won't\", 'wouldn', \"wouldn't\", 'don', \"don't\"]\n",
    "\n",
    "train['Text'] = tqdm.tqdm_notebook(train['Text'].apply(lambda x: [item for item in x if item not in stop])) #cpu\n",
    "\n",
    "train.head()"
   ]
  },
  {
   "cell_type": "code",
   "execution_count": 13,
   "metadata": {
    "execution": {
     "iopub.execute_input": "2022-11-08T03:12:00.017687Z",
     "iopub.status.busy": "2022-11-08T03:12:00.017154Z",
     "iopub.status.idle": "2022-11-08T03:13:29.203716Z",
     "shell.execute_reply": "2022-11-08T03:13:29.202449Z",
     "shell.execute_reply.started": "2022-11-08T03:12:00.017635Z"
    }
   },
   "outputs": [
    {
     "name": "stderr",
     "output_type": "stream",
     "text": [
      "/opt/conda/lib/python3.7/site-packages/ipykernel_launcher.py:8: TqdmDeprecationWarning: This function will be removed in tqdm==5.0.0\n",
      "Please use `tqdm.notebook.tqdm` instead of `tqdm.tqdm_notebook`\n",
      "  \n"
     ]
    },
    {
     "data": {
      "application/vnd.jupyter.widget-view+json": {
       "model_id": "f024799442ee4a599a7a38cfd05f4744",
       "version_major": 2,
       "version_minor": 0
      },
      "text/plain": [
       "  0%|          | 0/1397480 [00:00<?, ?it/s]"
      ]
     },
     "metadata": {},
     "output_type": "display_data"
    },
    {
     "data": {
      "text/html": [
       "<div>\n",
       "<style scoped>\n",
       "    .dataframe tbody tr th:only-of-type {\n",
       "        vertical-align: middle;\n",
       "    }\n",
       "\n",
       "    .dataframe tbody tr th {\n",
       "        vertical-align: top;\n",
       "    }\n",
       "\n",
       "    .dataframe thead th {\n",
       "        text-align: right;\n",
       "    }\n",
       "</style>\n",
       "<table border=\"1\" class=\"dataframe\">\n",
       "  <thead>\n",
       "    <tr style=\"text-align: right;\">\n",
       "      <th></th>\n",
       "      <th>Score</th>\n",
       "      <th>Text</th>\n",
       "    </tr>\n",
       "  </thead>\n",
       "  <tbody>\n",
       "    <tr>\n",
       "      <th>0</th>\n",
       "      <td>4.0</td>\n",
       "      <td>is charming version of classic dickens tale he...</td>\n",
       "    </tr>\n",
       "    <tr>\n",
       "      <th>1</th>\n",
       "      <td>3.0</td>\n",
       "      <td>it was good but not as emotionally moving as c...</td>\n",
       "    </tr>\n",
       "    <tr>\n",
       "      <th>2</th>\n",
       "      <td>3.0</td>\n",
       "      <td>dont get me wrong winkler is wonderful charact...</td>\n",
       "    </tr>\n",
       "    <tr>\n",
       "      <th>3</th>\n",
       "      <td>5.0</td>\n",
       "      <td>henry winkler is very good in twist on classic...</td>\n",
       "    </tr>\n",
       "    <tr>\n",
       "      <th>4</th>\n",
       "      <td>4.0</td>\n",
       "      <td>is one of best scrooge movies out henry winkle...</td>\n",
       "    </tr>\n",
       "  </tbody>\n",
       "</table>\n",
       "</div>"
      ],
      "text/plain": [
       "   Score                                               Text\n",
       "0    4.0  is charming version of classic dickens tale he...\n",
       "1    3.0  it was good but not as emotionally moving as c...\n",
       "2    3.0  dont get me wrong winkler is wonderful charact...\n",
       "3    5.0  henry winkler is very good in twist on classic...\n",
       "4    4.0  is one of best scrooge movies out henry winkle..."
      ]
     },
     "execution_count": 13,
     "metadata": {},
     "output_type": "execute_result"
    }
   ],
   "source": [
    "train1 = copy.deepcopy(train)\n",
    "\n",
    "train1['Text'] = train1['Text'].apply(', '.join)\n",
    "\n",
    "#converting tocken back to sentences\n",
    "\n",
    "p1 = re.compile(r'[^\\w\\s]+')\n",
    "train1['Text'] = [p1.sub('', x) for x in tqdm.tqdm_notebook(train1['Text'].tolist())]\n",
    "train1['Text'] = train1['Text'].str.lower()\n",
    "train1.head()"
   ]
  },
  {
   "cell_type": "code",
   "execution_count": 13,
   "metadata": {
    "execution": {
     "iopub.execute_input": "2022-11-07T23:40:31.020510Z",
     "iopub.status.busy": "2022-11-07T23:40:31.020215Z",
     "iopub.status.idle": "2022-11-07T23:40:31.025314Z",
     "shell.execute_reply": "2022-11-07T23:40:31.024161Z",
     "shell.execute_reply.started": "2022-11-07T23:40:31.020483Z"
    }
   },
   "outputs": [],
   "source": [
    "#train1.to_csv('data/train_preprocess.csv',index= False)"
   ]
  },
  {
   "cell_type": "markdown",
   "metadata": {},
   "source": [
    "## Preprocessing Test data"
   ]
  },
  {
   "cell_type": "code",
   "execution_count": 14,
   "metadata": {
    "execution": {
     "iopub.execute_input": "2022-11-08T03:15:09.675775Z",
     "iopub.status.busy": "2022-11-08T03:15:09.674201Z",
     "iopub.status.idle": "2022-11-08T03:16:02.256050Z",
     "shell.execute_reply": "2022-11-08T03:16:02.254818Z",
     "shell.execute_reply.started": "2022-11-08T03:15:09.675694Z"
    }
   },
   "outputs": [
    {
     "name": "stderr",
     "output_type": "stream",
     "text": [
      "/opt/conda/lib/python3.7/site-packages/ipykernel_launcher.py:7: TqdmDeprecationWarning: This function will be removed in tqdm==5.0.0\n",
      "Please use `tqdm.notebook.tqdm` instead of `tqdm.tqdm_notebook`\n",
      "  import sys\n"
     ]
    },
    {
     "data": {
      "application/vnd.jupyter.widget-view+json": {
       "model_id": "207980c661024eda9fccfca85819ed28",
       "version_major": 2,
       "version_minor": 0
      },
      "text/plain": [
       "  0%|          | 0/299991 [00:00<?, ?it/s]"
      ]
     },
     "metadata": {},
     "output_type": "display_data"
    }
   ],
   "source": [
    "\n",
    "\n",
    "test_text = test_new[['Id','Text']]\n",
    "\n",
    "test_text = test_text.dropna()\n",
    "\n",
    "p1 = re.compile(r'[^\\w\\s]+')\n",
    "#splitting the words\n",
    "test_text['Text'] = [p1.sub('', x) for x in tqdm.tqdm_notebook(test_text['Text'].tolist())]\n",
    "\n",
    "#making all string lowercase\n",
    "test_text['Text'] = test_text['Text'].str.lower().str.split()\n",
    "\n",
    "test_text['Text'] = test_text['Text'].apply(', '.join)\n",
    "\n",
    "#combining all of together to make one string\n",
    "\n",
    "p2 = re.compile(r'[^\\w\\s]+')\n",
    "test_text['Text'] = [p2.sub('', x) for x in test_text['Text'].tolist()]\n",
    "test_text['Text'] = test_text['Text'].str.lower()\n",
    "\n",
    "#test_text.to_csv('data/test_preprocess.csv',index=False)"
   ]
  },
  {
   "cell_type": "code",
   "execution_count": 15,
   "metadata": {
    "execution": {
     "iopub.execute_input": "2022-11-07T23:40:31.047644Z",
     "iopub.status.busy": "2022-11-07T23:40:31.046483Z",
     "iopub.status.idle": "2022-11-07T23:41:01.027751Z",
     "shell.execute_reply": "2022-11-07T23:41:01.026610Z",
     "shell.execute_reply.started": "2022-11-07T23:40:31.047596Z"
    }
   },
   "outputs": [],
   "source": [
    "#train1 = pd.read_csv(\"data/train_preprocess.csv\")\n",
    "#test1 = pd.read_csv(\"data/test_preprocess.csv\")"
   ]
  },
  {
   "cell_type": "code",
   "execution_count": 15,
   "metadata": {
    "execution": {
     "iopub.execute_input": "2022-11-08T03:16:15.400117Z",
     "iopub.status.busy": "2022-11-08T03:16:15.399614Z",
     "iopub.status.idle": "2022-11-08T03:16:15.843738Z",
     "shell.execute_reply": "2022-11-08T03:16:15.842302Z",
     "shell.execute_reply.started": "2022-11-08T03:16:15.400067Z"
    }
   },
   "outputs": [],
   "source": [
    "#Local Train and test set.\n",
    "\n",
    "X_train,X_test,y_train,y_test = train_test_split(train1['Text'],train1['Score'],test_size=0.1, random_state=42)"
   ]
  },
  {
   "cell_type": "code",
   "execution_count": 16,
   "metadata": {
    "execution": {
     "iopub.execute_input": "2022-11-08T03:16:17.140663Z",
     "iopub.status.busy": "2022-11-08T03:16:17.140165Z",
     "iopub.status.idle": "2022-11-08T03:16:17.147075Z",
     "shell.execute_reply": "2022-11-08T03:16:17.145668Z",
     "shell.execute_reply.started": "2022-11-08T03:16:17.140625Z"
    }
   },
   "outputs": [],
   "source": [
    "#whole dataset\n",
    "\n",
    "X_train_whole = train1['Text']\n",
    "y_train_whole = train1['Score']"
   ]
  },
  {
   "cell_type": "code",
   "execution_count": 17,
   "metadata": {
    "execution": {
     "iopub.execute_input": "2022-11-08T03:16:18.532927Z",
     "iopub.status.busy": "2022-11-08T03:16:18.532501Z",
     "iopub.status.idle": "2022-11-08T03:16:18.539817Z",
     "shell.execute_reply": "2022-11-08T03:16:18.537581Z",
     "shell.execute_reply.started": "2022-11-08T03:16:18.532891Z"
    }
   },
   "outputs": [],
   "source": [
    "def save_model(text_clf,save_name = 'model.pkl'):\n",
    "    with open(save_name, 'wb') as files:\n",
    "        pickle.dump(text_clf, files)"
   ]
  },
  {
   "cell_type": "markdown",
   "metadata": {},
   "source": [
    "## Support Vector Machine"
   ]
  },
  {
   "cell_type": "markdown",
   "metadata": {},
   "source": [
    "Experiment:\n",
    "1. Train the SVM with data with these stop words ['a','an','the','and','this','that'] removed from the dataset and used TfidfVectorizer().\n",
    "\n",
    "2. Train the SVM with data with only stop = ['a','an','the','and','this','that'] removed from the dataset and used TfidfVectorizer()."
   ]
  },
  {
   "cell_type": "code",
   "execution_count": 13,
   "metadata": {
    "collapsed": true,
    "execution": {
     "iopub.execute_input": "2022-11-07T17:13:52.066177Z",
     "iopub.status.busy": "2022-11-07T17:13:52.065732Z",
     "iopub.status.idle": "2022-11-07T17:47:03.518472Z",
     "shell.execute_reply": "2022-11-07T17:47:03.516898Z",
     "shell.execute_reply.started": "2022-11-07T17:13:52.066133Z"
    },
    "jupyter": {
     "outputs_hidden": true
    }
   },
   "outputs": [
    {
     "name": "stdout",
     "output_type": "stream",
     "text": [
      "[LibLinear]iter  1 act 2.152e+05 pre 2.152e+05 delta 8.484e-01 f 2.795e+05 |g| 5.072e+05 CG   1\n",
      "cg reaches trust region boundary\n",
      "iter  2 act 3.316e+03 pre 3.316e+03 delta 2.978e+00 f 6.434e+04 |g| 4.558e+03 CG   1\n",
      "cg reaches trust region boundary\n",
      "iter  3 act 7.246e+03 pre 6.781e+03 delta 4.597e+00 f 6.102e+04 |g| 5.782e+03 CG   2\n",
      "cg reaches trust region boundary\n",
      "iter  4 act 6.222e+03 pre 5.411e+03 delta 5.728e+00 f 5.378e+04 |g| 7.739e+03 CG   3\n",
      "cg reaches trust region boundary\n",
      "iter  5 act 4.472e+03 pre 4.014e+03 delta 7.918e+00 f 4.756e+04 |g| 1.100e+04 CG   4\n",
      "iter  6 act 1.017e+02 pre 9.895e+01 delta 7.918e+00 f 4.308e+04 |g| 7.603e+03 CG   1\n",
      "cg reaches trust region boundary\n",
      "iter  7 act 2.387e+03 pre 2.178e+03 delta 9.846e+00 f 4.298e+04 |g| 6.309e+02 CG   4\n",
      "cg reaches trust region boundary\n",
      "iter  8 act 1.567e+03 pre 1.524e+03 delta 1.120e+01 f 4.060e+04 |g| 3.431e+03 CG   5\n",
      "cg reaches trust region boundary\n",
      "iter  9 act 1.224e+03 pre 1.148e+03 delta 1.323e+01 f 3.903e+04 |g| 2.322e+03 CG   8\n",
      "cg reaches trust region boundary\n",
      "iter 10 act 8.943e+02 pre 9.122e+02 delta 1.398e+01 f 3.780e+04 |g| 1.257e+03 CG   9\n",
      "cg reaches trust region boundary\n",
      "iter 11 act 7.672e+02 pre 7.572e+02 delta 1.518e+01 f 3.691e+04 |g| 1.196e+03 CG  11\n",
      "iter 12 act 2.369e+02 pre 2.303e+02 delta 1.518e+01 f 3.614e+04 |g| 8.931e+02 CG   8\n",
      "cg reaches trust region boundary\n",
      "iter 13 act 3.556e+02 pre 3.544e+02 delta 1.741e+01 f 3.591e+04 |g| 3.910e+02 CG  10\n",
      "iter 14 act 2.257e+02 pre 2.257e+02 delta 1.741e+01 f 3.555e+04 |g| 2.882e+02 CG  21\n",
      "iter 15 act 3.254e+00 pre 3.237e+00 delta 1.741e+01 f 3.533e+04 |g| 1.779e+02 CG   4\n",
      "iter 16 act 5.512e+00 pre 5.502e+00 delta 1.741e+01 f 3.532e+04 |g| 1.751e+01 CG  32\n",
      "iter 17 act 7.121e-02 pre 7.120e-02 delta 1.741e+01 f 3.532e+04 |g| 7.990e+00 CG  19\n",
      "iter  1 act 2.158e+05 pre 2.158e+05 delta 8.497e-01 f 2.795e+05 |g| 5.080e+05 CG   1\n",
      "cg reaches trust region boundary\n",
      "iter  2 act 2.382e+03 pre 2.381e+03 delta 1.064e+00 f 6.367e+04 |g| 4.667e+03 CG   1\n",
      "cg reaches trust region boundary\n",
      "iter  3 act 1.812e+03 pre 1.801e+03 delta 1.434e+00 f 6.129e+04 |g| 5.432e+03 CG   2\n",
      "cg reaches trust region boundary\n",
      "iter  4 act 2.075e+03 pre 1.959e+03 delta 2.380e+00 f 5.948e+04 |g| 2.437e+03 CG   3\n",
      "cg reaches trust region boundary\n",
      "iter  5 act 1.876e+03 pre 1.794e+03 delta 3.725e+00 f 5.740e+04 |g| 3.580e+03 CG   3\n",
      "cg reaches trust region boundary\n",
      "iter  6 act 1.464e+03 pre 1.310e+03 delta 4.309e+00 f 5.553e+04 |g| 2.919e+03 CG   3\n",
      "cg reaches trust region boundary\n",
      "iter  7 act 1.171e+03 pre 1.102e+03 delta 5.001e+00 f 5.406e+04 |g| 3.706e+03 CG   4\n",
      "cg reaches trust region boundary\n",
      "iter  8 act 8.813e+02 pre 8.509e+02 delta 6.191e+00 f 5.289e+04 |g| 2.883e+03 CG   6\n",
      "cg reaches trust region boundary\n",
      "iter  9 act 6.240e+02 pre 6.299e+02 delta 6.238e+00 f 5.201e+04 |g| 1.714e+03 CG   6\n",
      "cg reaches trust region boundary\n",
      "iter 10 act 6.577e+02 pre 6.396e+02 delta 6.585e+00 f 5.139e+04 |g| 1.445e+03 CG   8\n",
      "cg reaches trust region boundary\n",
      "iter 11 act 5.925e+02 pre 5.856e+02 delta 7.411e+00 f 5.073e+04 |g| 1.135e+03 CG   9\n",
      "cg reaches trust region boundary\n",
      "iter 12 act 4.718e+02 pre 4.699e+02 delta 7.500e+00 f 5.014e+04 |g| 1.179e+03 CG   9\n",
      "cg reaches trust region boundary\n",
      "iter 13 act 5.057e+02 pre 4.956e+02 delta 8.615e+00 f 4.967e+04 |g| 1.151e+03 CG  10\n",
      "cg reaches trust region boundary\n",
      "iter 14 act 3.625e+02 pre 3.640e+02 delta 8.761e+00 f 4.916e+04 |g| 9.357e+02 CG  11\n",
      "cg reaches trust region boundary\n",
      "iter 15 act 3.652e+02 pre 3.636e+02 delta 9.620e+00 f 4.880e+04 |g| 8.538e+02 CG  12\n",
      "cg reaches trust region boundary\n",
      "iter 16 act 2.558e+02 pre 2.511e+02 delta 1.035e+01 f 4.843e+04 |g| 5.700e+02 CG  14\n",
      "iter 17 act 7.779e+01 pre 7.742e+01 delta 1.035e+01 f 4.818e+04 |g| 5.039e+02 CG  10\n",
      "cg reaches trust region boundary\n",
      "iter 18 act 1.018e+02 pre 1.017e+02 delta 1.055e+01 f 4.810e+04 |g| 1.991e+02 CG  14\n",
      "iter 19 act 4.103e+01 pre 4.102e+01 delta 1.055e+01 f 4.800e+04 |g| 1.197e+02 CG  27\n",
      "iter 20 act 2.426e-01 pre 2.423e-01 delta 1.055e+01 f 4.796e+04 |g| 7.565e+01 CG   3\n",
      "iter 21 act 8.667e-01 pre 8.667e-01 delta 1.055e+01 f 4.796e+04 |g| 7.589e+00 CG  43\n",
      "iter  1 act 1.621e+05 pre 1.621e+05 delta 7.364e-01 f 2.795e+05 |g| 4.402e+05 CG   1\n",
      "cg reaches trust region boundary\n",
      "iter  2 act 3.977e+03 pre 3.977e+03 delta 1.618e+00 f 1.174e+05 |g| 6.992e+03 CG   1\n",
      "cg reaches trust region boundary\n",
      "iter  3 act 5.099e+03 pre 5.023e+03 delta 2.669e+00 f 1.134e+05 |g| 8.244e+03 CG   2\n",
      "cg reaches trust region boundary\n",
      "iter  4 act 4.730e+03 pre 4.568e+03 delta 3.598e+00 f 1.083e+05 |g| 3.139e+03 CG   3\n",
      "cg reaches trust region boundary\n",
      "iter  5 act 3.114e+03 pre 2.957e+03 delta 5.161e+00 f 1.036e+05 |g| 3.471e+03 CG   3\n",
      "cg reaches trust region boundary\n",
      "iter  6 act 1.942e+03 pre 1.875e+03 delta 5.834e+00 f 1.005e+05 |g| 3.131e+03 CG   4\n",
      "cg reaches trust region boundary\n",
      "iter  7 act 1.436e+03 pre 1.395e+03 delta 6.998e+00 f 9.855e+04 |g| 2.201e+03 CG   6\n",
      "cg reaches trust region boundary\n",
      "iter  8 act 1.042e+03 pre 1.014e+03 delta 7.155e+00 f 9.711e+04 |g| 1.633e+03 CG   8\n",
      "iter  9 act 2.651e+02 pre 2.675e+02 delta 7.155e+00 f 9.607e+04 |g| 5.423e+03 CG   2\n",
      "cg reaches trust region boundary\n",
      "iter 10 act 8.076e+02 pre 8.382e+02 delta 7.731e+00 f 9.580e+04 |g| 6.673e+02 CG   8\n",
      "iter 11 act 3.507e+02 pre 3.309e+02 delta 7.731e+00 f 9.500e+04 |g| 3.433e+03 CG   4\n",
      "cg reaches trust region boundary\n",
      "iter 12 act 6.723e+02 pre 6.700e+02 delta 9.608e+00 f 9.465e+04 |g| 7.409e+02 CG   6\n",
      "cg reaches trust region boundary\n",
      "iter 13 act 9.414e+02 pre 9.540e+02 delta 1.118e+01 f 9.397e+04 |g| 7.434e+02 CG  10\n",
      "cg reaches trust region boundary\n",
      "iter 14 act 8.824e+02 pre 8.720e+02 delta 1.297e+01 f 9.303e+04 |g| 9.744e+02 CG  11\n",
      "cg reaches trust region boundary\n",
      "iter 15 act 8.001e+02 pre 7.900e+02 delta 1.411e+01 f 9.215e+04 |g| 9.214e+02 CG  12\n",
      "cg reaches trust region boundary\n",
      "iter 16 act 6.849e+02 pre 6.829e+02 delta 1.507e+01 f 9.135e+04 |g| 8.805e+02 CG  15\n",
      "cg reaches trust region boundary\n",
      "iter 17 act 4.526e+02 pre 4.646e+02 delta 1.507e+01 f 9.066e+04 |g| 6.789e+02 CG  18\n",
      "iter 18 act 9.373e+00 pre 9.340e+00 delta 1.507e+01 f 9.021e+04 |g| 2.789e+03 CG   1\n",
      "cg reaches trust region boundary\n",
      "iter 19 act 2.609e+02 pre 2.588e+02 delta 1.521e+01 f 9.020e+04 |g| 1.543e+02 CG  27\n",
      "iter 20 act 9.636e+00 pre 9.599e+00 delta 1.521e+01 f 8.994e+04 |g| 2.310e+02 CG   9\n",
      "iter 21 act 5.656e+00 pre 5.660e+00 delta 1.521e+01 f 8.993e+04 |g| 2.679e+01 CG  44\n",
      "iter 22 act 9.331e-02 pre 9.331e-02 delta 1.521e+01 f 8.993e+04 |g| 5.689e+00 CG  33\n",
      "iter  1 act 8.361e+04 pre 8.361e+04 delta 5.290e-01 f 2.795e+05 |g| 3.161e+05 CG   1\n",
      "cg reaches trust region boundary\n",
      "iter  2 act 3.444e+03 pre 3.444e+03 delta 1.576e+00 f 1.959e+05 |g| 7.823e+03 CG   1\n",
      "cg reaches trust region boundary\n",
      "iter  3 act 5.265e+03 pre 5.264e+03 delta 1.914e+00 f 1.924e+05 |g| 9.521e+03 CG   2\n",
      "cg reaches trust region boundary\n",
      "iter  4 act 4.866e+03 pre 4.860e+03 delta 2.518e+00 f 1.872e+05 |g| 4.481e+03 CG   3\n",
      "cg reaches trust region boundary\n",
      "iter  5 act 3.691e+03 pre 3.632e+03 delta 3.775e+00 f 1.823e+05 |g| 2.696e+03 CG   3\n",
      "cg reaches trust region boundary\n",
      "iter  6 act 2.542e+03 pre 2.503e+03 delta 4.759e+00 f 1.786e+05 |g| 2.067e+03 CG   3\n",
      "cg reaches trust region boundary\n",
      "iter  7 act 1.975e+03 pre 1.954e+03 delta 5.983e+00 f 1.761e+05 |g| 1.267e+03 CG   5\n",
      "cg reaches trust region boundary\n",
      "iter  8 act 1.532e+03 pre 1.502e+03 delta 6.714e+00 f 1.741e+05 |g| 1.074e+03 CG   6\n",
      "cg reaches trust region boundary\n",
      "iter  9 act 1.364e+03 pre 1.396e+03 delta 6.868e+00 f 1.726e+05 |g| 1.035e+03 CG   7\n",
      "cg reaches trust region boundary\n",
      "iter 10 act 1.393e+03 pre 1.378e+03 delta 7.686e+00 f 1.712e+05 |g| 1.596e+03 CG   8\n",
      "cg reaches trust region boundary\n",
      "iter 11 act 1.255e+03 pre 1.259e+03 delta 8.895e+00 f 1.698e+05 |g| 2.402e+03 CG   9\n",
      "cg reaches trust region boundary\n",
      "iter 12 act 1.156e+03 pre 1.166e+03 delta 9.623e+00 f 1.686e+05 |g| 9.265e+02 CG  10\n",
      "cg reaches trust region boundary\n",
      "iter 13 act 1.126e+03 pre 1.121e+03 delta 9.946e+00 f 1.674e+05 |g| 8.271e+02 CG  10\n",
      "cg reaches trust region boundary\n",
      "iter 14 act 1.119e+03 pre 1.125e+03 delta 1.066e+01 f 1.663e+05 |g| 8.714e+02 CG  11\n",
      "cg reaches trust region boundary\n",
      "iter 15 act 9.615e+02 pre 9.627e+02 delta 1.131e+01 f 1.652e+05 |g| 7.210e+02 CG  12\n",
      "cg reaches trust region boundary\n",
      "iter 16 act 9.468e+02 pre 9.418e+02 delta 1.322e+01 f 1.642e+05 |g| 6.954e+02 CG  12\n",
      "cg reaches trust region boundary\n",
      "iter 17 act 7.539e+02 pre 7.613e+02 delta 1.436e+01 f 1.633e+05 |g| 8.490e+02 CG  14\n",
      "cg reaches trust region boundary\n",
      "iter 18 act 6.955e+02 pre 6.876e+02 delta 1.589e+01 f 1.625e+05 |g| 3.732e+02 CG  16\n",
      "cg reaches trust region boundary\n",
      "iter 19 act 4.453e+02 pre 4.562e+02 delta 1.589e+01 f 1.618e+05 |g| 4.178e+02 CG  22\n",
      "iter 20 act 2.338e+02 pre 2.313e+02 delta 1.589e+01 f 1.614e+05 |g| 3.524e+02 CG  37\n",
      "iter 21 act 5.303e+00 pre 5.255e+00 delta 1.589e+01 f 1.611e+05 |g| 1.110e+02 CG  16\n",
      "iter 22 act 1.406e+00 pre 1.406e+00 delta 1.589e+01 f 1.611e+05 |g| 1.180e+01 CG  60\n",
      "iter  1 act 8.920e+04 pre 8.684e+04 delta 1.557e+01 f 2.795e+05 |g| 4.111e+04 CG   5\n",
      "cg reaches trust region boundary\n",
      "iter  2 act 1.353e+04 pre 1.254e+04 delta 1.730e+01 f 1.903e+05 |g| 3.213e+03 CG   8\n",
      "cg reaches trust region boundary\n",
      "iter  3 act 4.475e+03 pre 4.454e+03 delta 1.740e+01 f 1.768e+05 |g| 3.286e+03 CG   8\n",
      "cg reaches trust region boundary\n",
      "iter  4 act 3.572e+03 pre 3.516e+03 delta 1.878e+01 f 1.723e+05 |g| 9.219e+02 CG  10\n",
      "cg reaches trust region boundary\n",
      "iter  5 act 2.718e+03 pre 2.717e+03 delta 2.040e+01 f 1.687e+05 |g| 6.285e+02 CG  12\n",
      "cg reaches trust region boundary\n",
      "iter  6 act 2.064e+03 pre 2.123e+03 delta 2.040e+01 f 1.660e+05 |g| 1.044e+03 CG  14\n",
      "cg reaches trust region boundary\n",
      "iter  7 act 1.756e+03 pre 1.718e+03 delta 2.121e+01 f 1.639e+05 |g| 4.975e+02 CG  17\n",
      "cg reaches trust region boundary\n",
      "iter  8 act 1.263e+03 pre 1.272e+03 delta 2.226e+01 f 1.622e+05 |g| 4.828e+02 CG  18\n",
      "cg reaches trust region boundary\n",
      "iter  9 act 7.394e+02 pre 7.358e+02 delta 2.252e+01 f 1.609e+05 |g| 5.064e+02 CG  23\n",
      "iter 10 act 2.041e+02 pre 2.035e+02 delta 2.252e+01 f 1.602e+05 |g| 1.584e+02 CG  44\n",
      "iter 11 act 1.933e+00 pre 1.933e+00 delta 2.252e+01 f 1.600e+05 |g| 1.501e+01 CG  56\n"
     ]
    },
    {
     "data": {
      "text/plain": [
       "Pipeline(steps=[('tfidf', TfidfVectorizer()),\n",
       "                ('clf', LinearSVC(C=0.2, dual=False, verbose=3))])"
      ]
     },
     "execution_count": 13,
     "metadata": {},
     "output_type": "execute_result"
    }
   ],
   "source": [
    "\n",
    "text_clf = Pipeline([('tfidf', TfidfVectorizer()),\n",
    "                     ('clf', LinearSVC(dual=False,C = 0.2,verbose =3))])\n",
    "\n",
    "# Feed the training data through the pipeline\n",
    "text_clf.fit(X_train, y_train) "
   ]
  },
  {
   "cell_type": "code",
   "execution_count": 19,
   "metadata": {
    "execution": {
     "iopub.execute_input": "2022-11-07T17:49:04.427743Z",
     "iopub.status.busy": "2022-11-07T17:49:04.427294Z",
     "iopub.status.idle": "2022-11-07T17:49:06.477687Z",
     "shell.execute_reply": "2022-11-07T17:49:06.476555Z",
     "shell.execute_reply.started": "2022-11-07T17:49:04.427706Z"
    }
   },
   "outputs": [],
   "source": [
    "save_model(text_clf,save_name = 'svm_model_tfidf_big_stop.pkl')"
   ]
  },
  {
   "cell_type": "code",
   "execution_count": 32,
   "metadata": {
    "collapsed": true,
    "execution": {
     "iopub.execute_input": "2022-11-07T20:47:21.969607Z",
     "iopub.status.busy": "2022-11-07T20:47:21.969008Z",
     "iopub.status.idle": "2022-11-07T20:47:34.416468Z",
     "shell.execute_reply": "2022-11-07T20:47:34.414598Z",
     "shell.execute_reply.started": "2022-11-07T20:47:21.969558Z"
    },
    "jupyter": {
     "outputs_hidden": true
    }
   },
   "outputs": [
    {
     "ename": "KeyboardInterrupt",
     "evalue": "",
     "output_type": "error",
     "traceback": [
      "\u001b[0;31m---------------------------------------------------------------------------\u001b[0m",
      "\u001b[0;31mKeyboardInterrupt\u001b[0m                         Traceback (most recent call last)",
      "\u001b[0;32m/tmp/ipykernel_287/3342954199.py\u001b[0m in \u001b[0;36m<module>\u001b[0;34m\u001b[0m\n\u001b[1;32m      5\u001b[0m \u001b[0;34m\u001b[0m\u001b[0m\n\u001b[1;32m      6\u001b[0m \u001b[0;31m# Feed the training data through the pipeline\u001b[0m\u001b[0;34m\u001b[0m\u001b[0;34m\u001b[0m\u001b[0;34m\u001b[0m\u001b[0m\n\u001b[0;32m----> 7\u001b[0;31m \u001b[0mtext_clf\u001b[0m\u001b[0;34m.\u001b[0m\u001b[0mfit\u001b[0m\u001b[0;34m(\u001b[0m\u001b[0mX_train\u001b[0m\u001b[0;34m,\u001b[0m \u001b[0my_train\u001b[0m\u001b[0;34m)\u001b[0m\u001b[0;34m\u001b[0m\u001b[0;34m\u001b[0m\u001b[0m\n\u001b[0m",
      "\u001b[0;32m/opt/conda/lib/python3.7/site-packages/sklearn/pipeline.py\u001b[0m in \u001b[0;36mfit\u001b[0;34m(self, X, y, **fit_params)\u001b[0m\n\u001b[1;32m    388\u001b[0m         \"\"\"\n\u001b[1;32m    389\u001b[0m         \u001b[0mfit_params_steps\u001b[0m \u001b[0;34m=\u001b[0m \u001b[0mself\u001b[0m\u001b[0;34m.\u001b[0m\u001b[0m_check_fit_params\u001b[0m\u001b[0;34m(\u001b[0m\u001b[0;34m**\u001b[0m\u001b[0mfit_params\u001b[0m\u001b[0;34m)\u001b[0m\u001b[0;34m\u001b[0m\u001b[0;34m\u001b[0m\u001b[0m\n\u001b[0;32m--> 390\u001b[0;31m         \u001b[0mXt\u001b[0m \u001b[0;34m=\u001b[0m \u001b[0mself\u001b[0m\u001b[0;34m.\u001b[0m\u001b[0m_fit\u001b[0m\u001b[0;34m(\u001b[0m\u001b[0mX\u001b[0m\u001b[0;34m,\u001b[0m \u001b[0my\u001b[0m\u001b[0;34m,\u001b[0m \u001b[0;34m**\u001b[0m\u001b[0mfit_params_steps\u001b[0m\u001b[0;34m)\u001b[0m\u001b[0;34m\u001b[0m\u001b[0;34m\u001b[0m\u001b[0m\n\u001b[0m\u001b[1;32m    391\u001b[0m         \u001b[0;32mwith\u001b[0m \u001b[0m_print_elapsed_time\u001b[0m\u001b[0;34m(\u001b[0m\u001b[0;34m\"Pipeline\"\u001b[0m\u001b[0;34m,\u001b[0m \u001b[0mself\u001b[0m\u001b[0;34m.\u001b[0m\u001b[0m_log_message\u001b[0m\u001b[0;34m(\u001b[0m\u001b[0mlen\u001b[0m\u001b[0;34m(\u001b[0m\u001b[0mself\u001b[0m\u001b[0;34m.\u001b[0m\u001b[0msteps\u001b[0m\u001b[0;34m)\u001b[0m \u001b[0;34m-\u001b[0m \u001b[0;36m1\u001b[0m\u001b[0;34m)\u001b[0m\u001b[0;34m)\u001b[0m\u001b[0;34m:\u001b[0m\u001b[0;34m\u001b[0m\u001b[0;34m\u001b[0m\u001b[0m\n\u001b[1;32m    392\u001b[0m             \u001b[0;32mif\u001b[0m \u001b[0mself\u001b[0m\u001b[0;34m.\u001b[0m\u001b[0m_final_estimator\u001b[0m \u001b[0;34m!=\u001b[0m \u001b[0;34m\"passthrough\"\u001b[0m\u001b[0;34m:\u001b[0m\u001b[0;34m\u001b[0m\u001b[0;34m\u001b[0m\u001b[0m\n",
      "\u001b[0;32m/opt/conda/lib/python3.7/site-packages/sklearn/pipeline.py\u001b[0m in \u001b[0;36m_fit\u001b[0;34m(self, X, y, **fit_params_steps)\u001b[0m\n\u001b[1;32m    353\u001b[0m                 \u001b[0mmessage_clsname\u001b[0m\u001b[0;34m=\u001b[0m\u001b[0;34m\"Pipeline\"\u001b[0m\u001b[0;34m,\u001b[0m\u001b[0;34m\u001b[0m\u001b[0;34m\u001b[0m\u001b[0m\n\u001b[1;32m    354\u001b[0m                 \u001b[0mmessage\u001b[0m\u001b[0;34m=\u001b[0m\u001b[0mself\u001b[0m\u001b[0;34m.\u001b[0m\u001b[0m_log_message\u001b[0m\u001b[0;34m(\u001b[0m\u001b[0mstep_idx\u001b[0m\u001b[0;34m)\u001b[0m\u001b[0;34m,\u001b[0m\u001b[0;34m\u001b[0m\u001b[0;34m\u001b[0m\u001b[0m\n\u001b[0;32m--> 355\u001b[0;31m                 \u001b[0;34m**\u001b[0m\u001b[0mfit_params_steps\u001b[0m\u001b[0;34m[\u001b[0m\u001b[0mname\u001b[0m\u001b[0;34m]\u001b[0m\u001b[0;34m,\u001b[0m\u001b[0;34m\u001b[0m\u001b[0;34m\u001b[0m\u001b[0m\n\u001b[0m\u001b[1;32m    356\u001b[0m             )\n\u001b[1;32m    357\u001b[0m             \u001b[0;31m# Replace the transformer of the step with the fitted\u001b[0m\u001b[0;34m\u001b[0m\u001b[0;34m\u001b[0m\u001b[0;34m\u001b[0m\u001b[0m\n",
      "\u001b[0;32m/opt/conda/lib/python3.7/site-packages/joblib/memory.py\u001b[0m in \u001b[0;36m__call__\u001b[0;34m(self, *args, **kwargs)\u001b[0m\n\u001b[1;32m    350\u001b[0m \u001b[0;34m\u001b[0m\u001b[0m\n\u001b[1;32m    351\u001b[0m     \u001b[0;32mdef\u001b[0m \u001b[0m__call__\u001b[0m\u001b[0;34m(\u001b[0m\u001b[0mself\u001b[0m\u001b[0;34m,\u001b[0m \u001b[0;34m*\u001b[0m\u001b[0margs\u001b[0m\u001b[0;34m,\u001b[0m \u001b[0;34m**\u001b[0m\u001b[0mkwargs\u001b[0m\u001b[0;34m)\u001b[0m\u001b[0;34m:\u001b[0m\u001b[0;34m\u001b[0m\u001b[0;34m\u001b[0m\u001b[0m\n\u001b[0;32m--> 352\u001b[0;31m         \u001b[0;32mreturn\u001b[0m \u001b[0mself\u001b[0m\u001b[0;34m.\u001b[0m\u001b[0mfunc\u001b[0m\u001b[0;34m(\u001b[0m\u001b[0;34m*\u001b[0m\u001b[0margs\u001b[0m\u001b[0;34m,\u001b[0m \u001b[0;34m**\u001b[0m\u001b[0mkwargs\u001b[0m\u001b[0;34m)\u001b[0m\u001b[0;34m\u001b[0m\u001b[0;34m\u001b[0m\u001b[0m\n\u001b[0m\u001b[1;32m    353\u001b[0m \u001b[0;34m\u001b[0m\u001b[0m\n\u001b[1;32m    354\u001b[0m     \u001b[0;32mdef\u001b[0m \u001b[0mcall_and_shelve\u001b[0m\u001b[0;34m(\u001b[0m\u001b[0mself\u001b[0m\u001b[0;34m,\u001b[0m \u001b[0;34m*\u001b[0m\u001b[0margs\u001b[0m\u001b[0;34m,\u001b[0m \u001b[0;34m**\u001b[0m\u001b[0mkwargs\u001b[0m\u001b[0;34m)\u001b[0m\u001b[0;34m:\u001b[0m\u001b[0;34m\u001b[0m\u001b[0;34m\u001b[0m\u001b[0m\n",
      "\u001b[0;32m/opt/conda/lib/python3.7/site-packages/sklearn/pipeline.py\u001b[0m in \u001b[0;36m_fit_transform_one\u001b[0;34m(transformer, X, y, weight, message_clsname, message, **fit_params)\u001b[0m\n\u001b[1;32m    891\u001b[0m     \u001b[0;32mwith\u001b[0m \u001b[0m_print_elapsed_time\u001b[0m\u001b[0;34m(\u001b[0m\u001b[0mmessage_clsname\u001b[0m\u001b[0;34m,\u001b[0m \u001b[0mmessage\u001b[0m\u001b[0;34m)\u001b[0m\u001b[0;34m:\u001b[0m\u001b[0;34m\u001b[0m\u001b[0;34m\u001b[0m\u001b[0m\n\u001b[1;32m    892\u001b[0m         \u001b[0;32mif\u001b[0m \u001b[0mhasattr\u001b[0m\u001b[0;34m(\u001b[0m\u001b[0mtransformer\u001b[0m\u001b[0;34m,\u001b[0m \u001b[0;34m\"fit_transform\"\u001b[0m\u001b[0;34m)\u001b[0m\u001b[0;34m:\u001b[0m\u001b[0;34m\u001b[0m\u001b[0;34m\u001b[0m\u001b[0m\n\u001b[0;32m--> 893\u001b[0;31m             \u001b[0mres\u001b[0m \u001b[0;34m=\u001b[0m \u001b[0mtransformer\u001b[0m\u001b[0;34m.\u001b[0m\u001b[0mfit_transform\u001b[0m\u001b[0;34m(\u001b[0m\u001b[0mX\u001b[0m\u001b[0;34m,\u001b[0m \u001b[0my\u001b[0m\u001b[0;34m,\u001b[0m \u001b[0;34m**\u001b[0m\u001b[0mfit_params\u001b[0m\u001b[0;34m)\u001b[0m\u001b[0;34m\u001b[0m\u001b[0;34m\u001b[0m\u001b[0m\n\u001b[0m\u001b[1;32m    894\u001b[0m         \u001b[0;32melse\u001b[0m\u001b[0;34m:\u001b[0m\u001b[0;34m\u001b[0m\u001b[0;34m\u001b[0m\u001b[0m\n\u001b[1;32m    895\u001b[0m             \u001b[0mres\u001b[0m \u001b[0;34m=\u001b[0m \u001b[0mtransformer\u001b[0m\u001b[0;34m.\u001b[0m\u001b[0mfit\u001b[0m\u001b[0;34m(\u001b[0m\u001b[0mX\u001b[0m\u001b[0;34m,\u001b[0m \u001b[0my\u001b[0m\u001b[0;34m,\u001b[0m \u001b[0;34m**\u001b[0m\u001b[0mfit_params\u001b[0m\u001b[0;34m)\u001b[0m\u001b[0;34m.\u001b[0m\u001b[0mtransform\u001b[0m\u001b[0;34m(\u001b[0m\u001b[0mX\u001b[0m\u001b[0;34m)\u001b[0m\u001b[0;34m\u001b[0m\u001b[0;34m\u001b[0m\u001b[0m\n",
      "\u001b[0;32m/opt/conda/lib/python3.7/site-packages/sklearn/feature_extraction/text.py\u001b[0m in \u001b[0;36mfit_transform\u001b[0;34m(self, raw_documents, y)\u001b[0m\n\u001b[1;32m   1328\u001b[0m                     \u001b[0;32mbreak\u001b[0m\u001b[0;34m\u001b[0m\u001b[0;34m\u001b[0m\u001b[0m\n\u001b[1;32m   1329\u001b[0m \u001b[0;34m\u001b[0m\u001b[0m\n\u001b[0;32m-> 1330\u001b[0;31m         \u001b[0mvocabulary\u001b[0m\u001b[0;34m,\u001b[0m \u001b[0mX\u001b[0m \u001b[0;34m=\u001b[0m \u001b[0mself\u001b[0m\u001b[0;34m.\u001b[0m\u001b[0m_count_vocab\u001b[0m\u001b[0;34m(\u001b[0m\u001b[0mraw_documents\u001b[0m\u001b[0;34m,\u001b[0m \u001b[0mself\u001b[0m\u001b[0;34m.\u001b[0m\u001b[0mfixed_vocabulary_\u001b[0m\u001b[0;34m)\u001b[0m\u001b[0;34m\u001b[0m\u001b[0;34m\u001b[0m\u001b[0m\n\u001b[0m\u001b[1;32m   1331\u001b[0m \u001b[0;34m\u001b[0m\u001b[0m\n\u001b[1;32m   1332\u001b[0m         \u001b[0;32mif\u001b[0m \u001b[0mself\u001b[0m\u001b[0;34m.\u001b[0m\u001b[0mbinary\u001b[0m\u001b[0;34m:\u001b[0m\u001b[0;34m\u001b[0m\u001b[0;34m\u001b[0m\u001b[0m\n",
      "\u001b[0;32m/opt/conda/lib/python3.7/site-packages/sklearn/feature_extraction/text.py\u001b[0m in \u001b[0;36m_count_vocab\u001b[0;34m(self, raw_documents, fixed_vocab)\u001b[0m\n\u001b[1;32m   1203\u001b[0m                     \u001b[0mfeature_idx\u001b[0m \u001b[0;34m=\u001b[0m \u001b[0mvocabulary\u001b[0m\u001b[0;34m[\u001b[0m\u001b[0mfeature\u001b[0m\u001b[0;34m]\u001b[0m\u001b[0;34m\u001b[0m\u001b[0;34m\u001b[0m\u001b[0m\n\u001b[1;32m   1204\u001b[0m                     \u001b[0;32mif\u001b[0m \u001b[0mfeature_idx\u001b[0m \u001b[0;32mnot\u001b[0m \u001b[0;32min\u001b[0m \u001b[0mfeature_counter\u001b[0m\u001b[0;34m:\u001b[0m\u001b[0;34m\u001b[0m\u001b[0;34m\u001b[0m\u001b[0m\n\u001b[0;32m-> 1205\u001b[0;31m                         \u001b[0mfeature_counter\u001b[0m\u001b[0;34m[\u001b[0m\u001b[0mfeature_idx\u001b[0m\u001b[0;34m]\u001b[0m \u001b[0;34m=\u001b[0m \u001b[0;36m1\u001b[0m\u001b[0;34m\u001b[0m\u001b[0;34m\u001b[0m\u001b[0m\n\u001b[0m\u001b[1;32m   1206\u001b[0m                     \u001b[0;32melse\u001b[0m\u001b[0;34m:\u001b[0m\u001b[0;34m\u001b[0m\u001b[0;34m\u001b[0m\u001b[0m\n\u001b[1;32m   1207\u001b[0m                         \u001b[0mfeature_counter\u001b[0m\u001b[0;34m[\u001b[0m\u001b[0mfeature_idx\u001b[0m\u001b[0;34m]\u001b[0m \u001b[0;34m+=\u001b[0m \u001b[0;36m1\u001b[0m\u001b[0;34m\u001b[0m\u001b[0;34m\u001b[0m\u001b[0m\n",
      "\u001b[0;31mKeyboardInterrupt\u001b[0m: "
     ]
    }
   ],
   "source": [
    "#trains forever\n",
    "text_clf = Pipeline([('CountVectorizer', CountVectorizer()),\n",
    "                     ('clf', LinearSVC(dual=False,C = 0.2,verbose =3)),\n",
    "])\n",
    "\n",
    "# Feed the training data through the pipeline\n",
    "text_clf.fit(X_train, y_train) "
   ]
  },
  {
   "cell_type": "code",
   "execution_count": null,
   "metadata": {},
   "outputs": [],
   "source": [
    "save_model(save_name = 'svm_model_count_vec_big_stop.pkl',text_clf)"
   ]
  },
  {
   "cell_type": "code",
   "execution_count": 18,
   "metadata": {
    "collapsed": true,
    "execution": {
     "iopub.execute_input": "2022-11-07T19:57:23.712860Z",
     "iopub.status.busy": "2022-11-07T19:57:23.712420Z",
     "iopub.status.idle": "2022-11-07T20:24:41.281211Z",
     "shell.execute_reply": "2022-11-07T20:24:41.279536Z",
     "shell.execute_reply.started": "2022-11-07T19:57:23.712822Z"
    },
    "jupyter": {
     "outputs_hidden": true
    }
   },
   "outputs": [
    {
     "name": "stdout",
     "output_type": "stream",
     "text": [
      "[LibLinear]iter  1 act 1.936e+05 pre 1.936e+05 delta 8.576e-01 f 2.515e+05 |g| 4.516e+05 CG   1\n",
      "cg reaches trust region boundary\n",
      "iter  2 act 3.097e+03 pre 3.097e+03 delta 3.430e+00 f 5.791e+04 |g| 4.122e+03 CG   1\n",
      "cg reaches trust region boundary\n",
      "iter  3 act 7.448e+03 pre 6.818e+03 delta 5.120e+00 f 5.481e+04 |g| 5.234e+03 CG   2\n",
      "cg reaches trust region boundary\n",
      "iter  4 act 5.957e+03 pre 5.300e+03 delta 6.974e+00 f 4.736e+04 |g| 8.604e+03 CG   3\n",
      "cg reaches trust region boundary\n",
      "iter  5 act 3.515e+03 pre 3.020e+03 delta 8.851e+00 f 4.141e+04 |g| 8.787e+03 CG   4\n",
      "iter  6 act 1.092e+02 pre 1.060e+02 delta 8.851e+00 f 3.789e+04 |g| 6.992e+03 CG   1\n",
      "cg reaches trust region boundary\n",
      "iter  7 act 1.895e+03 pre 1.791e+03 delta 1.061e+01 f 3.778e+04 |g| 5.052e+02 CG   4\n",
      "cg reaches trust region boundary\n",
      "iter  8 act 1.367e+03 pre 1.307e+03 delta 1.273e+01 f 3.589e+04 |g| 2.342e+03 CG   6\n",
      "cg reaches trust region boundary\n",
      "iter  9 act 1.025e+03 pre 9.993e+02 delta 1.451e+01 f 3.452e+04 |g| 1.765e+03 CG   8\n",
      "cg reaches trust region boundary\n",
      "iter 10 act 7.919e+02 pre 8.117e+02 delta 1.495e+01 f 3.350e+04 |g| 1.070e+03 CG  10\n",
      "iter 11 act 2.685e+02 pre 2.544e+02 delta 1.495e+01 f 3.271e+04 |g| 1.081e+03 CG   5\n",
      "cg reaches trust region boundary\n",
      "iter 12 act 3.779e+02 pre 3.759e+02 delta 1.564e+01 f 3.244e+04 |g| 4.614e+02 CG   8\n",
      "cg reaches trust region boundary\n",
      "iter 13 act 3.415e+02 pre 3.414e+02 delta 1.580e+01 f 3.206e+04 |g| 4.242e+02 CG  16\n",
      "iter 14 act 3.343e+01 pre 3.346e+01 delta 1.580e+01 f 3.172e+04 |g| 3.601e+02 CG   8\n",
      "iter 15 act 1.974e+01 pre 1.971e+01 delta 1.580e+01 f 3.168e+04 |g| 5.683e+01 CG  21\n",
      "iter 16 act 6.410e-01 pre 6.417e-01 delta 1.580e+01 f 3.166e+04 |g| 1.136e+01 CG  21\n",
      "iter  1 act 1.943e+05 pre 1.943e+05 delta 8.590e-01 f 2.515e+05 |g| 4.524e+05 CG   1\n",
      "cg reaches trust region boundary\n",
      "iter  2 act 2.357e+03 pre 2.356e+03 delta 1.564e+00 f 5.725e+04 |g| 3.783e+03 CG   1\n",
      "cg reaches trust region boundary\n",
      "iter  3 act 2.449e+03 pre 2.338e+03 delta 2.660e+00 f 5.489e+04 |g| 4.394e+03 CG   2\n",
      "cg reaches trust region boundary\n",
      "iter  4 act 2.197e+03 pre 1.952e+03 delta 3.598e+00 f 5.244e+04 |g| 2.667e+03 CG   3\n",
      "cg reaches trust region boundary\n",
      "iter  5 act 1.528e+03 pre 1.421e+03 delta 4.330e+00 f 5.025e+04 |g| 4.589e+03 CG   4\n",
      "cg reaches trust region boundary\n",
      "iter  6 act 1.151e+03 pre 1.070e+03 delta 5.251e+00 f 4.872e+04 |g| 3.543e+03 CG   4\n",
      "cg reaches trust region boundary\n",
      "iter  7 act 8.374e+02 pre 8.019e+02 delta 6.231e+00 f 4.757e+04 |g| 2.483e+03 CG   6\n",
      "cg reaches trust region boundary\n",
      "iter  8 act 6.690e+02 pre 6.803e+02 delta 6.680e+00 f 4.673e+04 |g| 1.673e+03 CG   6\n",
      "cg reaches trust region boundary\n",
      "iter  9 act 7.236e+02 pre 6.991e+02 delta 8.532e+00 f 4.606e+04 |g| 1.565e+03 CG   8\n",
      "cg reaches trust region boundary\n",
      "iter 10 act 5.404e+02 pre 5.391e+02 delta 8.952e+00 f 4.534e+04 |g| 2.959e+02 CG   8\n",
      "cg reaches trust region boundary\n",
      "iter 11 act 5.980e+02 pre 6.042e+02 delta 9.778e+00 f 4.480e+04 |g| 1.242e+03 CG  10\n",
      "cg reaches trust region boundary\n",
      "iter 12 act 4.633e+02 pre 4.466e+02 delta 1.039e+01 f 4.420e+04 |g| 1.133e+03 CG  11\n",
      "iter 13 act 1.584e+02 pre 1.564e+02 delta 1.039e+01 f 4.373e+04 |g| 9.356e+02 CG   5\n",
      "cg reaches trust region boundary\n",
      "iter 14 act 2.428e+02 pre 2.429e+02 delta 1.064e+01 f 4.358e+04 |g| 3.848e+02 CG   9\n",
      "cg reaches trust region boundary\n",
      "iter 15 act 2.785e+02 pre 2.779e+02 delta 1.105e+01 f 4.333e+04 |g| 4.214e+02 CG  15\n",
      "iter 16 act 5.786e+01 pre 5.754e+01 delta 1.105e+01 f 4.306e+04 |g| 5.076e+02 CG   8\n",
      "cg reaches trust region boundary\n",
      "iter 17 act 8.610e+01 pre 8.592e+01 delta 1.122e+01 f 4.300e+04 |g| 1.410e+02 CG  17\n",
      "iter 18 act 7.412e+00 pre 7.456e+00 delta 1.122e+01 f 4.291e+04 |g| 5.750e+01 CG  21\n",
      "iter 19 act 1.013e+00 pre 1.013e+00 delta 1.122e+01 f 4.290e+04 |g| 2.057e+01 CG  27\n",
      "iter  1 act 1.461e+05 pre 1.461e+05 delta 7.448e-01 f 2.515e+05 |g| 3.922e+05 CG   1\n",
      "cg reaches trust region boundary\n",
      "iter  2 act 3.528e+03 pre 3.528e+03 delta 2.281e+00 f 1.055e+05 |g| 5.662e+03 CG   1\n",
      "cg reaches trust region boundary\n",
      "iter  3 act 5.398e+03 pre 5.186e+03 delta 2.713e+00 f 1.020e+05 |g| 6.919e+03 CG   2\n",
      "cg reaches trust region boundary\n",
      "iter  4 act 3.956e+03 pre 3.849e+03 delta 3.599e+00 f 9.656e+04 |g| 3.779e+03 CG   3\n",
      "cg reaches trust region boundary\n",
      "iter  5 act 2.371e+03 pre 2.267e+03 delta 4.642e+00 f 9.261e+04 |g| 2.490e+03 CG   3\n",
      "cg reaches trust region boundary\n",
      "iter  6 act 1.662e+03 pre 1.622e+03 delta 5.465e+00 f 9.024e+04 |g| 2.637e+03 CG   4\n",
      "cg reaches trust region boundary\n",
      "iter  7 act 1.171e+03 pre 1.117e+03 delta 6.176e+00 f 8.858e+04 |g| 1.837e+03 CG   5\n",
      "cg reaches trust region boundary\n",
      "iter  8 act 1.073e+03 pre 1.095e+03 delta 7.320e+00 f 8.740e+04 |g| 1.639e+03 CG   6\n",
      "cg reaches trust region boundary\n",
      "iter  9 act 8.953e+02 pre 8.843e+02 delta 8.022e+00 f 8.633e+04 |g| 1.274e+03 CG   8\n",
      "iter 10 act 3.492e+02 pre 3.419e+02 delta 8.022e+00 f 8.544e+04 |g| 3.218e+03 CG   4\n",
      "cg reaches trust region boundary\n",
      "iter 11 act 7.139e+02 pre 7.110e+02 delta 1.099e+01 f 8.509e+04 |g| 5.563e+02 CG   6\n",
      "cg reaches trust region boundary\n",
      "iter 12 act 8.735e+02 pre 8.827e+02 delta 1.153e+01 f 8.437e+04 |g| 7.970e+02 CG  10\n",
      "cg reaches trust region boundary\n",
      "iter 13 act 9.324e+02 pre 9.287e+02 delta 1.280e+01 f 8.350e+04 |g| 1.013e+03 CG  11\n",
      "cg reaches trust region boundary\n",
      "iter 14 act 7.491e+02 pre 7.468e+02 delta 1.416e+01 f 8.257e+04 |g| 9.983e+02 CG  12\n",
      "cg reaches trust region boundary\n",
      "iter 15 act 5.663e+02 pre 5.595e+02 delta 1.443e+01 f 8.182e+04 |g| 8.071e+02 CG  15\n",
      "cg reaches trust region boundary\n",
      "iter 16 act 4.148e+02 pre 4.195e+02 delta 1.476e+01 f 8.125e+04 |g| 7.105e+02 CG  18\n",
      "iter 17 act 6.661e+01 pre 6.578e+01 delta 1.476e+01 f 8.084e+04 |g| 8.098e+02 CG   6\n",
      "iter 18 act 9.654e+01 pre 9.652e+01 delta 1.476e+01 f 8.077e+04 |g| 1.399e+02 CG  31\n",
      "iter 19 act 1.824e+00 pre 1.826e+00 delta 1.476e+01 f 8.067e+04 |g| 3.140e+01 CG  33\n",
      "iter  1 act 7.542e+04 pre 7.542e+04 delta 5.353e-01 f 2.515e+05 |g| 2.818e+05 CG   1\n",
      "cg reaches trust region boundary\n",
      "iter  2 act 2.875e+03 pre 2.875e+03 delta 2.141e+00 f 1.761e+05 |g| 6.088e+03 CG   1\n",
      "cg reaches trust region boundary\n",
      "iter  3 act 6.156e+03 pre 6.150e+03 delta 2.593e+00 f 1.733e+05 |g| 7.711e+03 CG   2\n",
      "cg reaches trust region boundary\n",
      "iter  4 act 4.750e+03 pre 4.734e+03 delta 3.337e+00 f 1.671e+05 |g| 3.315e+03 CG   3\n",
      "cg reaches trust region boundary\n",
      "iter  5 act 3.020e+03 pre 2.951e+03 delta 4.536e+00 f 1.623e+05 |g| 1.790e+03 CG   3\n",
      "cg reaches trust region boundary\n",
      "iter  6 act 1.915e+03 pre 1.889e+03 delta 5.410e+00 f 1.593e+05 |g| 1.306e+03 CG   4\n",
      "cg reaches trust region boundary\n",
      "iter  7 act 1.669e+03 pre 1.647e+03 delta 6.630e+00 f 1.574e+05 |g| 1.107e+03 CG   5\n",
      "cg reaches trust region boundary\n",
      "iter  8 act 1.499e+03 pre 1.507e+03 delta 8.498e+00 f 1.557e+05 |g| 9.236e+02 CG   6\n",
      "cg reaches trust region boundary\n",
      "iter  9 act 1.337e+03 pre 1.356e+03 delta 9.296e+00 f 1.542e+05 |g| 7.765e+02 CG   8\n",
      "iter 10 act 5.592e+01 pre 5.582e+01 delta 9.296e+00 f 1.529e+05 |g| 7.436e+03 CG   1\n",
      "cg reaches trust region boundary\n",
      "iter 11 act 1.478e+03 pre 1.468e+03 delta 1.112e+01 f 1.529e+05 |g| 5.722e+02 CG   9\n",
      "cg reaches trust region boundary\n",
      "iter 12 act 1.380e+03 pre 1.384e+03 delta 1.293e+01 f 1.514e+05 |g| 7.562e+02 CG  10\n",
      "cg reaches trust region boundary\n",
      "iter 13 act 1.242e+03 pre 1.257e+03 delta 1.298e+01 f 1.500e+05 |g| 8.100e+02 CG  10\n",
      "cg reaches trust region boundary\n",
      "iter 14 act 1.334e+03 pre 1.319e+03 delta 1.450e+01 f 1.487e+05 |g| 8.618e+02 CG  12\n",
      "cg reaches trust region boundary\n",
      "iter 15 act 9.389e+02 pre 9.442e+02 delta 1.464e+01 f 1.474e+05 |g| 4.148e+02 CG  14\n",
      "cg reaches trust region boundary\n",
      "iter 16 act 8.400e+02 pre 8.434e+02 delta 1.474e+01 f 1.465e+05 |g| 1.180e+03 CG  16\n",
      "cg reaches trust region boundary\n",
      "iter 17 act 5.836e+02 pre 5.830e+02 delta 1.476e+01 f 1.456e+05 |g| 5.246e+02 CG  18\n",
      "cg reaches trust region boundary\n",
      "iter 18 act 3.567e+02 pre 3.558e+02 delta 1.505e+01 f 1.451e+05 |g| 3.416e+02 CG  23\n",
      "iter 19 act 4.766e+01 pre 4.765e+01 delta 1.505e+01 f 1.447e+05 |g| 3.980e+02 CG  10\n",
      "iter 20 act 3.884e+01 pre 3.884e+01 delta 1.505e+01 f 1.446e+05 |g| 4.509e+01 CG  42\n",
      "iter  1 act 7.638e+04 pre 7.408e+04 delta 1.318e+01 f 2.515e+05 |g| 3.673e+04 CG   4\n",
      "cg reaches trust region boundary\n",
      "iter  2 act 1.405e+04 pre 1.310e+04 delta 1.475e+01 f 1.752e+05 |g| 6.157e+03 CG   6\n",
      "cg reaches trust region boundary\n",
      "iter  3 act 4.765e+03 pre 4.767e+03 delta 1.492e+01 f 1.611e+05 |g| 1.355e+03 CG   7\n",
      "iter  4 act 1.505e+03 pre 1.439e+03 delta 1.492e+01 f 1.564e+05 |g| 6.742e+03 CG   5\n",
      "cg reaches trust region boundary\n",
      "iter  5 act 2.415e+03 pre 2.462e+03 delta 1.629e+01 f 1.549e+05 |g| 6.545e+02 CG   8\n",
      "iter  6 act 1.083e+02 pre 1.083e+02 delta 1.629e+01 f 1.524e+05 |g| 9.896e+03 CG   1\n",
      "cg reaches trust region boundary\n",
      "iter  7 act 2.465e+03 pre 2.381e+03 delta 1.751e+01 f 1.523e+05 |g| 8.595e+02 CG  10\n",
      "cg reaches trust region boundary\n",
      "iter  8 act 1.992e+03 pre 2.057e+03 delta 1.751e+01 f 1.499e+05 |g| 5.965e+02 CG  14\n",
      "cg reaches trust region boundary\n",
      "iter  9 act 1.753e+03 pre 1.719e+03 delta 1.862e+01 f 1.479e+05 |g| 1.661e+03 CG  14\n",
      "cg reaches trust region boundary\n",
      "iter 10 act 1.250e+03 pre 1.269e+03 delta 1.891e+01 f 1.461e+05 |g| 4.941e+02 CG  15\n",
      "cg reaches trust region boundary\n",
      "iter 11 act 9.231e+02 pre 9.199e+02 delta 1.906e+01 f 1.449e+05 |g| 4.995e+02 CG  17\n",
      "cg reaches trust region boundary\n",
      "iter 12 act 5.487e+02 pre 5.455e+02 delta 1.953e+01 f 1.439e+05 |g| 3.083e+02 CG  23\n",
      "iter 13 act 6.808e+01 pre 6.827e+01 delta 1.953e+01 f 1.434e+05 |g| 2.807e+02 CG  17\n",
      "iter 14 act 3.419e+01 pre 3.419e+01 delta 1.953e+01 f 1.433e+05 |g| 2.751e+01 CG  44\n",
      "iter 15 act 1.474e-01 pre 1.474e-01 delta 1.953e+01 f 1.433e+05 |g| 2.406e+00 CG  60\n"
     ]
    },
    {
     "data": {
      "text/plain": [
       "Pipeline(steps=[('vect', CountVectorizer()), ('tfidf', TfidfTransformer()),\n",
       "                ('clf', LinearSVC(C=0.2, dual=False, verbose=3))])"
      ]
     },
     "execution_count": 18,
     "metadata": {},
     "output_type": "execute_result"
    }
   ],
   "source": [
    "svm_clf = Pipeline([('vect', CountVectorizer()),\n",
    "                     ('tfidf', TfidfTransformer()),\n",
    "                     ('clf', LinearSVC(dual=False,C = 0.2,verbose =3))])\n",
    "\n",
    "svm_clf.fit(X_train, y_train)"
   ]
  },
  {
   "cell_type": "code",
   "execution_count": 29,
   "metadata": {
    "execution": {
     "iopub.execute_input": "2022-11-07T20:38:36.885311Z",
     "iopub.status.busy": "2022-11-07T20:38:36.883558Z",
     "iopub.status.idle": "2022-11-07T20:38:57.608654Z",
     "shell.execute_reply": "2022-11-07T20:38:57.607429Z",
     "shell.execute_reply.started": "2022-11-07T20:38:36.885254Z"
    }
   },
   "outputs": [
    {
     "data": {
      "text/plain": [
       "array([5., 5., 4., ..., 5., 4., 5.])"
      ]
     },
     "execution_count": 29,
     "metadata": {},
     "output_type": "execute_result"
    }
   ],
   "source": [
    "pred = svm_clf.predict(X_test)"
   ]
  },
  {
   "cell_type": "code",
   "execution_count": null,
   "metadata": {},
   "outputs": [],
   "source": [
    "# check accuracy\n",
    "print(accuracy_score(y_test, pred))\n",
    "\n",
    "# check confusion matrix\n",
    "print(confusion_matrix(y_test, pred))\n",
    "\n",
    "# check classification report\n",
    "print(classification_report(y_test, pred))"
   ]
  },
  {
   "cell_type": "code",
   "execution_count": 21,
   "metadata": {
    "execution": {
     "iopub.execute_input": "2022-11-07T20:27:12.478001Z",
     "iopub.status.busy": "2022-11-07T20:27:12.477503Z",
     "iopub.status.idle": "2022-11-07T20:27:13.982233Z",
     "shell.execute_reply": "2022-11-07T20:27:13.981075Z",
     "shell.execute_reply.started": "2022-11-07T20:27:12.477960Z"
    }
   },
   "outputs": [],
   "source": [
    "save_model(svm_clf,save_name = 'svm_model_count_vec_tfid_big_stop.pkl')"
   ]
  },
  {
   "cell_type": "markdown",
   "metadata": {},
   "source": [
    "## Pipelining Random Forest Classifier for training with TF-IDF Vectorizer"
   ]
  },
  {
   "cell_type": "code",
   "execution_count": 19,
   "metadata": {
    "execution": {
     "iopub.execute_input": "2022-11-07T22:36:21.488573Z",
     "iopub.status.busy": "2022-11-07T22:36:21.488056Z",
     "iopub.status.idle": "2022-11-07T22:36:21.832787Z",
     "shell.execute_reply": "2022-11-07T22:36:21.831346Z",
     "shell.execute_reply.started": "2022-11-07T22:36:21.488506Z"
    }
   },
   "outputs": [],
   "source": [
    "train2 = train1.sample(frac=1)"
   ]
  },
  {
   "cell_type": "code",
   "execution_count": 20,
   "metadata": {
    "execution": {
     "iopub.execute_input": "2022-11-07T22:36:23.048370Z",
     "iopub.status.busy": "2022-11-07T22:36:23.047471Z",
     "iopub.status.idle": "2022-11-07T22:36:23.277823Z",
     "shell.execute_reply": "2022-11-07T22:36:23.276414Z",
     "shell.execute_reply.started": "2022-11-07T22:36:23.048330Z"
    }
   },
   "outputs": [],
   "source": [
    "one = train2[train2['Score']==1][:84000]\n",
    "two = train2[train2['Score']==2][:84000]\n",
    "three = train2[train2['Score']==3][:84000]\n",
    "four = train2[train2['Score']==4][:84000]\n",
    "five = train2[train2['Score']==5][:84000]\n",
    "\n",
    "\n",
    "df = pd.concat([one, two,three,four,five], ignore_index=True)"
   ]
  },
  {
   "cell_type": "code",
   "execution_count": 8,
   "metadata": {
    "execution": {
     "iopub.execute_input": "2022-11-07T09:43:57.868694Z",
     "iopub.status.busy": "2022-11-07T09:43:57.868147Z",
     "iopub.status.idle": "2022-11-07T09:43:57.877377Z",
     "shell.execute_reply": "2022-11-07T09:43:57.874913Z",
     "shell.execute_reply.started": "2022-11-07T09:43:57.868651Z"
    }
   },
   "outputs": [],
   "source": [
    "X_train2 = train2['Text']\n",
    "y_train2 = train2['Score']"
   ]
  },
  {
   "cell_type": "code",
   "execution_count": null,
   "metadata": {
    "execution": {
     "iopub.execute_input": "2022-11-07T22:15:53.104631Z",
     "iopub.status.busy": "2022-11-07T22:15:53.104100Z"
    }
   },
   "outputs": [
    {
     "name": "stderr",
     "output_type": "stream",
     "text": [
      "[Parallel(n_jobs=1)]: Using backend SequentialBackend with 1 concurrent workers.\n"
     ]
    },
    {
     "name": "stdout",
     "output_type": "stream",
     "text": [
      "building tree 1 of 100\n"
     ]
    }
   ],
   "source": [
    "#Random Forest\n",
    "\n",
    "text_clf1 = Pipeline([('tfidf', TfidfVectorizer()),\n",
    "                     ('clf', RandomForestClassifier(n_estimators=100,random_state=0,verbose =2))])\n",
    "\n",
    "# Feed the training data through the pipeline\n",
    "text_clf1.fit(X_train[:40000], y_train[:40000]) "
   ]
  },
  {
   "cell_type": "code",
   "execution_count": 40,
   "metadata": {
    "execution": {
     "iopub.execute_input": "2022-11-07T22:14:41.389177Z",
     "iopub.status.busy": "2022-11-07T22:14:41.387640Z",
     "iopub.status.idle": "2022-11-07T22:15:13.059388Z",
     "shell.execute_reply": "2022-11-07T22:15:13.058094Z",
     "shell.execute_reply.started": "2022-11-07T22:14:41.389116Z"
    }
   },
   "outputs": [
    {
     "name": "stderr",
     "output_type": "stream",
     "text": [
      "[Parallel(n_jobs=1)]: Using backend SequentialBackend with 1 concurrent workers.\n",
      "[Parallel(n_jobs=1)]: Done   1 out of   1 | elapsed:    0.1s remaining:    0.0s\n",
      "[Parallel(n_jobs=1)]: Done 100 out of 100 | elapsed:   11.4s finished\n"
     ]
    },
    {
     "data": {
      "text/plain": [
       "0.5355210808025875"
      ]
     },
     "execution_count": 40,
     "metadata": {},
     "output_type": "execute_result"
    }
   ],
   "source": [
    "pred = text_clf1.predict(X_test)\n",
    "accuracy_score(pred,y_test)"
   ]
  },
  {
   "cell_type": "code",
   "execution_count": 22,
   "metadata": {
    "execution": {
     "iopub.execute_input": "2022-11-07T22:36:37.051762Z",
     "iopub.status.busy": "2022-11-07T22:36:37.051336Z",
     "iopub.status.idle": "2022-11-07T22:36:37.058429Z",
     "shell.execute_reply": "2022-11-07T22:36:37.057175Z",
     "shell.execute_reply.started": "2022-11-07T22:36:37.051731Z"
    }
   },
   "outputs": [],
   "source": [
    "X_train2 = df['Text']\n",
    "y_train2 = df['Score']"
   ]
  },
  {
   "cell_type": "code",
   "execution_count": null,
   "metadata": {
    "execution": {
     "iopub.execute_input": "2022-11-07T22:40:30.582059Z",
     "iopub.status.busy": "2022-11-07T22:40:30.581619Z"
    }
   },
   "outputs": [
    {
     "name": "stderr",
     "output_type": "stream",
     "text": [
      "[Parallel(n_jobs=1)]: Using backend SequentialBackend with 1 concurrent workers.\n"
     ]
    },
    {
     "name": "stdout",
     "output_type": "stream",
     "text": [
      "building tree 1 of 100\n"
     ]
    },
    {
     "name": "stderr",
     "output_type": "stream",
     "text": [
      "[Parallel(n_jobs=1)]: Done   1 out of   1 | elapsed:  5.5min remaining:    0.0s\n"
     ]
    },
    {
     "name": "stdout",
     "output_type": "stream",
     "text": [
      "building tree 2 of 100\n",
      "building tree 3 of 100\n",
      "building tree 4 of 100\n",
      "building tree 5 of 100\n",
      "building tree 6 of 100\n"
     ]
    }
   ],
   "source": [
    "text_clf2 = Pipeline([('tfidf', TfidfVectorizer()),\n",
    "                     ('rdf',RandomForestClassifier(verbose =2)),\n",
    "])\n",
    "\n",
    "# Feed the training data through the pipeline\n",
    "text_clf2.fit(X_train2, y_train2) "
   ]
  },
  {
   "cell_type": "code",
   "execution_count": 25,
   "metadata": {
    "collapsed": true,
    "execution": {
     "iopub.execute_input": "2022-11-07T22:37:20.710577Z",
     "iopub.status.busy": "2022-11-07T22:37:20.710001Z",
     "iopub.status.idle": "2022-11-07T22:37:45.278158Z",
     "shell.execute_reply": "2022-11-07T22:37:45.276323Z",
     "shell.execute_reply.started": "2022-11-07T22:37:20.710532Z"
    }
   },
   "outputs": [
    {
     "name": "stderr",
     "output_type": "stream",
     "text": [
      "[Parallel(n_jobs=1)]: Using backend SequentialBackend with 1 concurrent workers.\n",
      "[Parallel(n_jobs=1)]: Done   1 out of   1 | elapsed:    0.1s remaining:    0.0s\n",
      "[Parallel(n_jobs=1)]: Done 100 out of 100 | elapsed:    6.2s finished\n"
     ]
    },
    {
     "ename": "NameError",
     "evalue": "name 'accuracy_score' is not defined",
     "output_type": "error",
     "traceback": [
      "\u001b[0;31m---------------------------------------------------------------------------\u001b[0m",
      "\u001b[0;31mNameError\u001b[0m                                 Traceback (most recent call last)",
      "\u001b[0;32m/tmp/ipykernel_27/248009216.py\u001b[0m in \u001b[0;36m<module>\u001b[0;34m\u001b[0m\n\u001b[1;32m      1\u001b[0m \u001b[0mpred\u001b[0m \u001b[0;34m=\u001b[0m \u001b[0mtext_clf2\u001b[0m\u001b[0;34m.\u001b[0m\u001b[0mpredict\u001b[0m\u001b[0;34m(\u001b[0m\u001b[0mX_test\u001b[0m\u001b[0;34m)\u001b[0m\u001b[0;34m\u001b[0m\u001b[0;34m\u001b[0m\u001b[0m\n\u001b[0;32m----> 2\u001b[0;31m \u001b[0maccuracy_score\u001b[0m\u001b[0;34m(\u001b[0m\u001b[0mpred\u001b[0m\u001b[0;34m,\u001b[0m\u001b[0my_test\u001b[0m\u001b[0;34m)\u001b[0m\u001b[0;34m\u001b[0m\u001b[0;34m\u001b[0m\u001b[0m\n\u001b[0m",
      "\u001b[0;31mNameError\u001b[0m: name 'accuracy_score' is not defined"
     ]
    }
   ],
   "source": [
    "pred = text_clf2.predict(X_test)\n",
    "# check accuracy\n",
    "print(accuracy_score(y_test, pred))\n",
    "\n",
    "# check confusion matrix\n",
    "print(confusion_matrix(y_test, pred))\n",
    "\n",
    "# check classification report\n",
    "print(classification_report(y_test, pred))"
   ]
  },
  {
   "cell_type": "code",
   "execution_count": 27,
   "metadata": {
    "execution": {
     "iopub.execute_input": "2022-11-07T22:38:42.858569Z",
     "iopub.status.busy": "2022-11-07T22:38:42.858138Z",
     "iopub.status.idle": "2022-11-07T22:38:42.880035Z",
     "shell.execute_reply": "2022-11-07T22:38:42.878513Z",
     "shell.execute_reply.started": "2022-11-07T22:38:42.858539Z"
    }
   },
   "outputs": [
    {
     "data": {
      "text/plain": [
       "0.061067063571571684"
      ]
     },
     "execution_count": 27,
     "metadata": {},
     "output_type": "execute_result"
    }
   ],
   "source": [
    "accuracy_score(pred,y_test)"
   ]
  },
  {
   "cell_type": "markdown",
   "metadata": {},
   "source": [
    "## Logistic Regression #did not train "
   ]
  },
  {
   "cell_type": "code",
   "execution_count": null,
   "metadata": {},
   "outputs": [],
   "source": [
    "\n",
    "from sklearn.linear_model import LogisticRegression\n",
    "\n",
    "text_clf = Pipeline([('tfidf', TfidfVectorizer()),\n",
    "                     ('clf', LogisticRegression(random_state = 0,verbose =3))])\n",
    "\n",
    "# Feed the training data through the pipeline\n",
    "text_clf.fit(X_train, y_train) "
   ]
  },
  {
   "cell_type": "markdown",
   "metadata": {},
   "source": [
    "## Get results to submit"
   ]
  },
  {
   "cell_type": "code",
   "execution_count": 23,
   "metadata": {
    "execution": {
     "iopub.execute_input": "2022-11-07T20:30:12.337576Z",
     "iopub.status.busy": "2022-11-07T20:30:12.337071Z",
     "iopub.status.idle": "2022-11-07T20:30:18.946202Z",
     "shell.execute_reply": "2022-11-07T20:30:18.944893Z",
     "shell.execute_reply.started": "2022-11-07T20:30:12.337533Z"
    }
   },
   "outputs": [],
   "source": [
    "test_text = pd.read_csv(\"../input/amazon-review-preprocessed-data/test_preprocess.csv\")"
   ]
  },
  {
   "cell_type": "code",
   "execution_count": 24,
   "metadata": {
    "execution": {
     "iopub.execute_input": "2022-11-07T20:30:59.516258Z",
     "iopub.status.busy": "2022-11-07T20:30:59.515775Z",
     "iopub.status.idle": "2022-11-07T20:31:20.614248Z",
     "shell.execute_reply": "2022-11-07T20:31:20.613052Z",
     "shell.execute_reply.started": "2022-11-07T20:30:59.516221Z"
    }
   },
   "outputs": [],
   "source": [
    "train_new = pd.read_csv(\"../input/cs506-fall-2022/train.csv\")"
   ]
  },
  {
   "cell_type": "code",
   "execution_count": 25,
   "metadata": {
    "execution": {
     "iopub.execute_input": "2022-11-07T20:31:33.695772Z",
     "iopub.status.busy": "2022-11-07T20:31:33.694047Z",
     "iopub.status.idle": "2022-11-07T20:31:34.286811Z",
     "shell.execute_reply": "2022-11-07T20:31:34.285408Z",
     "shell.execute_reply.started": "2022-11-07T20:31:33.695707Z"
    }
   },
   "outputs": [],
   "source": [
    "test_new = test.join(train_new, on='Id', how = 'inner',lsuffix='test_data', rsuffix='train_new')"
   ]
  },
  {
   "cell_type": "code",
   "execution_count": 36,
   "metadata": {
    "execution": {
     "iopub.execute_input": "2022-11-07T20:55:31.966745Z",
     "iopub.status.busy": "2022-11-07T20:55:31.966255Z",
     "iopub.status.idle": "2022-11-07T20:56:49.592773Z",
     "shell.execute_reply": "2022-11-07T20:56:49.591308Z",
     "shell.execute_reply.started": "2022-11-07T20:55:31.966708Z"
    }
   },
   "outputs": [
    {
     "name": "stderr",
     "output_type": "stream",
     "text": [
      "[Parallel(n_jobs=1)]: Using backend SequentialBackend with 1 concurrent workers.\n",
      "[Parallel(n_jobs=1)]: Done   1 out of   1 | elapsed:    0.3s remaining:    0.0s\n",
      "[Parallel(n_jobs=1)]: Done 100 out of 100 | elapsed:   30.8s finished\n"
     ]
    }
   ],
   "source": [
    "predictions = text_clf1.predict(test_text['Text'])\n",
    "submission_2 = pd.DataFrame({'Id':test_text['Id'],'Score':predictions})\n",
    "#Visualize the first 5 rows\n",
    "submission_2.head()\n",
    "\n",
    "common = test_text.merge(submission_2,on=['Id'])\n",
    "common=test_new[(~test_new['Id'].isin(common['Id']))]\n",
    "common_id_score = common[['Id','Scoretest_data']]\n",
    "common_id_score = common_id_score.rename(columns = {\"Scoretest_data\":\"Score\"})\n",
    "\n",
    "common_id_score.head()\n",
    "submission_2_new = submission_2.append(common_id_score)\n",
    "submission_2_new['Score'].fillna((submission_2_new['Score'].mean()), inplace=True)\n",
    "\n",
    "submission_2_new=submission_2_new.astype(int)\n",
    "submission_2_new.to_csv('submit_rf_full_data.csv',index=False)"
   ]
  },
  {
   "cell_type": "markdown",
   "metadata": {},
   "source": [
    "Getting results for SVM"
   ]
  },
  {
   "cell_type": "code",
   "execution_count": null,
   "metadata": {
    "execution": {
     "iopub.status.busy": "2022-11-07T06:41:55.837274Z",
     "iopub.status.idle": "2022-11-07T06:41:55.837678Z",
     "shell.execute_reply": "2022-11-07T06:41:55.837497Z",
     "shell.execute_reply.started": "2022-11-07T06:41:55.837478Z"
    }
   },
   "outputs": [],
   "source": [
    "predictions = text_clf.predict(test_text['Text'])\n",
    "submission_2 = pd.DataFrame({'Id':test_text['Id'],'Score':predictions})\n",
    "#Visualize the first 5 rows\n",
    "submission_2.head()\n",
    "\n",
    "common = test_new.merge(submission_2,on=['Id'])\n",
    "common=test_new[(~test_new['Id'].isin(common['Id']))]\n",
    "common_id_score = common[['Id','Scoretest_data']]\n",
    "common_id_score = common_id_score.rename(columns = {\"Scoretest_data\":\"Score\"})\n",
    "\n",
    "common_id_score.head()\n",
    "submission_2_new = submission_2.append(common_id_score)\n",
    "submission_2_new['Score'].fillna((submission_2_new['Score'].mean()), inplace=True)\n",
    "\n",
    "submission_2_new=submission_2_new.astype(int)\n",
    "submission_2_new.to_csv('svm_results.csv')"
   ]
  },
  {
   "cell_type": "markdown",
   "metadata": {
    "execution": {
     "iopub.execute_input": "2022-11-07T02:47:10.678117Z",
     "iopub.status.busy": "2022-11-07T02:47:10.677695Z",
     "iopub.status.idle": "2022-11-07T02:47:10.685663Z",
     "shell.execute_reply": "2022-11-07T02:47:10.684411Z",
     "shell.execute_reply.started": "2022-11-07T02:47:10.678088Z"
    }
   },
   "source": [
    "Random forest results"
   ]
  },
  {
   "cell_type": "code",
   "execution_count": null,
   "metadata": {
    "execution": {
     "iopub.status.busy": "2022-11-07T06:41:55.839307Z",
     "iopub.status.idle": "2022-11-07T06:41:55.839689Z",
     "shell.execute_reply": "2022-11-07T06:41:55.839509Z",
     "shell.execute_reply.started": "2022-11-07T06:41:55.839492Z"
    }
   },
   "outputs": [],
   "source": [
    "predictions = text_clf2.predict(test_text['Text'])\n",
    "submission_2 = pd.DataFrame({'Id':test_text['Id'],'Score':predictions})\n",
    "#Visualize the first 5 rows\n",
    "submission_2.head()\n",
    "\n",
    "common = test_new.merge(submission_2,on=['Id'])\n",
    "common=test_new[(~test_new['Id'].isin(common['Id']))]\n",
    "common_id_score = common[['Id','Scoretest_data']]\n",
    "common_id_score = common_id_score.rename(columns = {\"Scoretest_data\":\"Score\"})\n",
    "\n",
    "common_id_score.head()\n",
    "submission_2_new = submission_2.append(common_id_score)\n",
    "submission_2_new['Score'].fillna((submission_2_new['Score'].mean()), inplace=True)\n",
    "\n",
    "submission_2_new=submission_2_new.astype(int)\n",
    "submission_2_new.to_csv('rf_results.csv',index=False)"
   ]
  },
  {
   "cell_type": "code",
   "execution_count": null,
   "metadata": {
    "execution": {
     "iopub.status.busy": "2022-11-07T06:41:55.841101Z",
     "iopub.status.idle": "2022-11-07T06:41:55.842437Z",
     "shell.execute_reply": "2022-11-07T06:41:55.842236Z",
     "shell.execute_reply.started": "2022-11-07T06:41:55.842213Z"
    }
   },
   "outputs": [],
   "source": [
    "submission_2_new.to_csv('rf_results.csv',index=False)"
   ]
  },
  {
   "cell_type": "markdown",
   "metadata": {},
   "source": [
    "## Creating ensemble of all models generated"
   ]
  },
  {
   "cell_type": "code",
   "execution_count": null,
   "metadata": {},
   "outputs": [],
   "source": [
    "svm_1 = pd.read_csv('result/submit_svm_full_data.csv')\n",
    "svm_2 = pd.read_csv('result/submit_svm_model_tfidf_big_stop.csv')\n",
    "svm_3 = pd.read_csv('result/submit_svm_count_vec_tfid_big_stop.csv')\n",
    "rf_1 = pd.read_csv('result/submit_rf_40k_cls_balance.csv')\n",
    "rf_2 = pd.read_csv('result/submit_rf_50k_cls_balance.csv')\n",
    "rf_3 = pd.read_csv('result/submit_rf_full_data.csv')"
   ]
  },
  {
   "cell_type": "code",
   "execution_count": null,
   "metadata": {},
   "outputs": [],
   "source": [
    "#Mode:\n",
    "#ensemble_pred = []\n",
    "#for i in range(len(svm_1['Score'])):\n",
    "#        ensemble_pred.append(np.argmax(np.bincount([svm_1['Score'][i], svm_2['Score'][i], svm_3['Score'][i]])))\n",
    "\n",
    "#Weighted Score:\n",
    "\n",
    "weighted_score = (0.25*svm_1['Score']+0.2*svm_2['Score']+0.25*svm_3['Score']+0.1*rf_1['Score']+0.1*rf_2['Score']+0.1*rf_3['Score']) #/6\n",
    "\n",
    "submit =pd.DataFrame()\n",
    "submit['Id'] = svm_1['Id']\n",
    "submit['Score'] = weighted_score\n",
    "submit = submit.astype('int')\n",
    "submit.to_csv('ensemble_svm_rf_6_weighted.csv',index=False)"
   ]
  },
  {
   "cell_type": "markdown",
   "metadata": {},
   "source": [
    "# Train with GPU (Did not work, issue with pipline)"
   ]
  },
  {
   "cell_type": "code",
   "execution_count": 17,
   "metadata": {
    "execution": {
     "iopub.execute_input": "2022-11-07T09:00:41.812718Z",
     "iopub.status.busy": "2022-11-07T09:00:41.812124Z",
     "iopub.status.idle": "2022-11-07T09:00:41.828388Z",
     "shell.execute_reply": "2022-11-07T09:00:41.827332Z",
     "shell.execute_reply.started": "2022-11-07T09:00:41.812676Z"
    }
   },
   "outputs": [],
   "source": [
    "# This Python 3 environment comes with many helpful analytics libraries installed\n",
    "# It is defined by the kaggle/python docker image: https://github.com/kaggle/docker-python\n",
    "# For example, here's several helpful packages to load in \n",
    "\n",
    "#set CUDA_PATH=C:\\Program Files\\NVIDIA GPU Computing Toolkit\\CUDA\\v11.4\n",
    "import numpy as np # linear algebra\n",
    "import pandas as pd # data processing, CSV file I/O (e.g. pd.read_csv)\n",
    "import matplotlib.pyplot as plt\n",
    "# Input data files are available in the \"../input/\" directory.\n",
    "# For example, running this (by clicking run or pressing Shift+Enter) will list all files under the input directory\n",
    "\n",
    "\n",
    "import gc\n",
    "from sklearn.metrics import f1_score\n",
    "from sklearn.model_selection import StratifiedKFold\n",
    "\n",
    "import cudf #turn on gpu to work\n",
    "from cuml.ensemble import RandomForestRegressor\n",
    "\n",
    "\n",
    "import os, sys\n",
    "from nltk.tokenize import TweetTokenizer\n",
    "\n",
    "import matplotlib\n",
    "import matplotlib.pyplot as plt\n",
    "\n",
    "import cudf #turn on gpu to work\n",
    "\n",
    "import seaborn as sns\n",
    "color = sns.color_palette()\n",
    "import re\n",
    "\n",
    "import tqdm\n",
    "\n",
    "%matplotlib inline\n",
    "\n",
    "# Any results you write to the current directory are saved as output."
   ]
  },
  {
   "cell_type": "code",
   "execution_count": 8,
   "metadata": {
    "execution": {
     "iopub.execute_input": "2022-11-07T08:56:30.346507Z",
     "iopub.status.busy": "2022-11-07T08:56:30.346123Z",
     "iopub.status.idle": "2022-11-07T08:56:31.581620Z",
     "shell.execute_reply": "2022-11-07T08:56:31.580614Z",
     "shell.execute_reply.started": "2022-11-07T08:56:30.346477Z"
    }
   },
   "outputs": [],
   "source": [
    "train = cudf.read_csv(\"../input/amazon-review-preprocessed-data/train_preprocess.csv\")\n",
    "test = cudf.read_csv(\"../input/amazon-review-preprocessed-data/test_preprocess.csv\")\n",
    "#sample = pd.read_csv(\"sample.csv\")"
   ]
  },
  {
   "cell_type": "code",
   "execution_count": 35,
   "metadata": {
    "execution": {
     "iopub.execute_input": "2022-11-07T09:28:25.825032Z",
     "iopub.status.busy": "2022-11-07T09:28:25.824668Z",
     "iopub.status.idle": "2022-11-07T09:28:25.830170Z",
     "shell.execute_reply": "2022-11-07T09:28:25.828993Z",
     "shell.execute_reply.started": "2022-11-07T09:28:25.825002Z"
    }
   },
   "outputs": [],
   "source": [
    "from cuml.pipeline import Pipeline\n",
    "from cuml.feature_extraction.text import TfidfVectorizer\n",
    "#from cuml.svm import linear_svc\n",
    "\n",
    "from cuml.ensemble import RandomForestClassifier"
   ]
  },
  {
   "cell_type": "code",
   "execution_count": 28,
   "metadata": {
    "collapsed": true,
    "execution": {
     "iopub.execute_input": "2022-11-07T09:12:50.943695Z",
     "iopub.status.busy": "2022-11-07T09:12:50.942584Z",
     "iopub.status.idle": "2022-11-07T09:13:04.274739Z",
     "shell.execute_reply": "2022-11-07T09:13:04.272936Z",
     "shell.execute_reply.started": "2022-11-07T09:12:50.943651Z"
    },
    "jupyter": {
     "outputs_hidden": true
    }
   },
   "outputs": [
    {
     "ename": "MemoryError",
     "evalue": "std::bad_alloc: CUDA error at: /opt/conda/include/rmm/mr/device/cuda_memory_resource.hpp:70: cudaErrorMemoryAllocation out of memory",
     "output_type": "error",
     "traceback": [
      "\u001b[0;31m---------------------------------------------------------------------------\u001b[0m",
      "\u001b[0;31mMemoryError\u001b[0m                               Traceback (most recent call last)",
      "\u001b[0;32m/tmp/ipykernel_23/821263209.py\u001b[0m in \u001b[0;36m<module>\u001b[0;34m\u001b[0m\n\u001b[1;32m      1\u001b[0m \u001b[0mmodel\u001b[0m \u001b[0;34m=\u001b[0m \u001b[0mTfidfVectorizer\u001b[0m\u001b[0;34m(\u001b[0m\u001b[0;34m)\u001b[0m\u001b[0;34m\u001b[0m\u001b[0;34m\u001b[0m\u001b[0m\n\u001b[0;32m----> 2\u001b[0;31m \u001b[0mtext_embeddings\u001b[0m \u001b[0;34m=\u001b[0m \u001b[0mmodel\u001b[0m\u001b[0;34m.\u001b[0m\u001b[0mfit_transform\u001b[0m\u001b[0;34m(\u001b[0m\u001b[0mtrain\u001b[0m\u001b[0;34m[\u001b[0m\u001b[0;34m'Text'\u001b[0m\u001b[0;34m]\u001b[0m\u001b[0;34m)\u001b[0m\u001b[0;34m.\u001b[0m\u001b[0mtoarray\u001b[0m\u001b[0;34m(\u001b[0m\u001b[0;34m)\u001b[0m\u001b[0;34m\u001b[0m\u001b[0;34m\u001b[0m\u001b[0m\n\u001b[0m\u001b[1;32m      3\u001b[0m \u001b[0mprint\u001b[0m\u001b[0;34m(\u001b[0m\u001b[0;34m'text embeddings shape is'\u001b[0m\u001b[0;34m,\u001b[0m\u001b[0mtext_embeddings\u001b[0m\u001b[0;34m.\u001b[0m\u001b[0mshape\u001b[0m\u001b[0;34m)\u001b[0m\u001b[0;34m\u001b[0m\u001b[0;34m\u001b[0m\u001b[0m\n",
      "\u001b[0;32m/opt/conda/lib/python3.7/site-packages/cuml/feature_extraction/_tfidf_vectorizer.py\u001b[0m in \u001b[0;36mfit_transform\u001b[0;34m(self, raw_documents)\u001b[0m\n\u001b[1;32m    234\u001b[0m             \u001b[0mTf\u001b[0m\u001b[0;34m-\u001b[0m\u001b[0midf\u001b[0m\u001b[0;34m-\u001b[0m\u001b[0mweighted\u001b[0m \u001b[0mdocument\u001b[0m\u001b[0;34m-\u001b[0m\u001b[0mterm\u001b[0m \u001b[0mmatrix\u001b[0m\u001b[0;34m.\u001b[0m\u001b[0;34m\u001b[0m\u001b[0;34m\u001b[0m\u001b[0m\n\u001b[1;32m    235\u001b[0m         \"\"\"\n\u001b[0;32m--> 236\u001b[0;31m         \u001b[0mX\u001b[0m \u001b[0;34m=\u001b[0m \u001b[0msuper\u001b[0m\u001b[0;34m(\u001b[0m\u001b[0;34m)\u001b[0m\u001b[0;34m.\u001b[0m\u001b[0mfit_transform\u001b[0m\u001b[0;34m(\u001b[0m\u001b[0mraw_documents\u001b[0m\u001b[0;34m)\u001b[0m\u001b[0;34m\u001b[0m\u001b[0;34m\u001b[0m\u001b[0m\n\u001b[0m\u001b[1;32m    237\u001b[0m         \u001b[0mself\u001b[0m\u001b[0;34m.\u001b[0m\u001b[0m_tfidf\u001b[0m\u001b[0;34m.\u001b[0m\u001b[0mfit\u001b[0m\u001b[0;34m(\u001b[0m\u001b[0mX\u001b[0m\u001b[0;34m)\u001b[0m\u001b[0;34m\u001b[0m\u001b[0;34m\u001b[0m\u001b[0m\n\u001b[1;32m    238\u001b[0m         \u001b[0;31m# X is already a transformed view of raw_documents so\u001b[0m\u001b[0;34m\u001b[0m\u001b[0;34m\u001b[0m\u001b[0;34m\u001b[0m\u001b[0m\n",
      "\u001b[0;32m/opt/conda/lib/python3.7/site-packages/cuml/feature_extraction/_vectorizers.py\u001b[0m in \u001b[0;36mfit_transform\u001b[0;34m(self, raw_documents)\u001b[0m\n\u001b[1;32m    557\u001b[0m             \u001b[0mself\u001b[0m\u001b[0;34m.\u001b[0m\u001b[0mvocabulary_\u001b[0m \u001b[0;34m=\u001b[0m \u001b[0mtokenized_df\u001b[0m\u001b[0;34m[\u001b[0m\u001b[0;34m\"token\"\u001b[0m\u001b[0;34m]\u001b[0m\u001b[0;34m.\u001b[0m\u001b[0munique\u001b[0m\u001b[0;34m(\u001b[0m\u001b[0;34m)\u001b[0m\u001b[0;34m\u001b[0m\u001b[0;34m\u001b[0m\u001b[0m\n\u001b[1;32m    558\u001b[0m \u001b[0;34m\u001b[0m\u001b[0m\n\u001b[0;32m--> 559\u001b[0;31m         \u001b[0mcount_df\u001b[0m \u001b[0;34m=\u001b[0m \u001b[0mself\u001b[0m\u001b[0;34m.\u001b[0m\u001b[0m_count_vocab\u001b[0m\u001b[0;34m(\u001b[0m\u001b[0mtokenized_df\u001b[0m\u001b[0;34m)\u001b[0m\u001b[0;34m\u001b[0m\u001b[0;34m\u001b[0m\u001b[0m\n\u001b[0m\u001b[1;32m    560\u001b[0m \u001b[0;34m\u001b[0m\u001b[0m\n\u001b[1;32m    561\u001b[0m         \u001b[0;32mif\u001b[0m \u001b[0;32mnot\u001b[0m \u001b[0mself\u001b[0m\u001b[0;34m.\u001b[0m\u001b[0m_fixed_vocabulary\u001b[0m\u001b[0;34m:\u001b[0m\u001b[0;34m\u001b[0m\u001b[0;34m\u001b[0m\u001b[0m\n",
      "\u001b[0;32m/opt/conda/lib/python3.7/site-packages/cuml/feature_extraction/_vectorizers.py\u001b[0m in \u001b[0;36m_count_vocab\u001b[0;34m(self, tokenized_df)\u001b[0m\n\u001b[1;32m    431\u001b[0m         \u001b[0;31m# Transform string tokens into token indexes from 0 to len(vocab)\u001b[0m\u001b[0;34m\u001b[0m\u001b[0;34m\u001b[0m\u001b[0;34m\u001b[0m\u001b[0m\n\u001b[1;32m    432\u001b[0m         \u001b[0;31m# The indexes are based on lexicographical ordering.\u001b[0m\u001b[0;34m\u001b[0m\u001b[0;34m\u001b[0m\u001b[0;34m\u001b[0m\u001b[0m\n\u001b[0;32m--> 433\u001b[0;31m         \u001b[0mtokenized_df\u001b[0m\u001b[0;34m[\u001b[0m\u001b[0;34m'token'\u001b[0m\u001b[0;34m]\u001b[0m \u001b[0;34m=\u001b[0m \u001b[0mtokenized_df\u001b[0m\u001b[0;34m[\u001b[0m\u001b[0;34m'token'\u001b[0m\u001b[0;34m]\u001b[0m\u001b[0;34m.\u001b[0m\u001b[0mastype\u001b[0m\u001b[0;34m(\u001b[0m\u001b[0;34m'category'\u001b[0m\u001b[0;34m)\u001b[0m\u001b[0;34m\u001b[0m\u001b[0;34m\u001b[0m\u001b[0m\n\u001b[0m\u001b[1;32m    434\u001b[0m         tokenized_df['token'] = tokenized_df['token'].cat.set_categories(\n\u001b[1;32m    435\u001b[0m             \u001b[0mself\u001b[0m\u001b[0;34m.\u001b[0m\u001b[0mvocabulary_\u001b[0m\u001b[0;34m\u001b[0m\u001b[0;34m\u001b[0m\u001b[0m\n",
      "\u001b[0;32m/opt/conda/lib/python3.7/site-packages/cudf/core/series.py\u001b[0m in \u001b[0;36mastype\u001b[0;34m(self, dtype, copy, errors)\u001b[0m\n\u001b[1;32m   2872\u001b[0m         \u001b[0;32mexcept\u001b[0m \u001b[0mException\u001b[0m \u001b[0;32mas\u001b[0m \u001b[0me\u001b[0m\u001b[0;34m:\u001b[0m\u001b[0;34m\u001b[0m\u001b[0;34m\u001b[0m\u001b[0m\n\u001b[1;32m   2873\u001b[0m             \u001b[0;32mif\u001b[0m \u001b[0merrors\u001b[0m \u001b[0;34m==\u001b[0m \u001b[0;34m\"raise\"\u001b[0m\u001b[0;34m:\u001b[0m\u001b[0;34m\u001b[0m\u001b[0;34m\u001b[0m\u001b[0m\n\u001b[0;32m-> 2874\u001b[0;31m                 \u001b[0;32mraise\u001b[0m \u001b[0me\u001b[0m\u001b[0;34m\u001b[0m\u001b[0;34m\u001b[0m\u001b[0m\n\u001b[0m\u001b[1;32m   2875\u001b[0m             \u001b[0;32melif\u001b[0m \u001b[0merrors\u001b[0m \u001b[0;34m==\u001b[0m \u001b[0;34m\"warn\"\u001b[0m\u001b[0;34m:\u001b[0m\u001b[0;34m\u001b[0m\u001b[0;34m\u001b[0m\u001b[0m\n\u001b[1;32m   2876\u001b[0m                 \u001b[0;32mimport\u001b[0m \u001b[0mtraceback\u001b[0m\u001b[0;34m\u001b[0m\u001b[0;34m\u001b[0m\u001b[0m\n",
      "\u001b[0;32m/opt/conda/lib/python3.7/site-packages/cudf/core/series.py\u001b[0m in \u001b[0;36mastype\u001b[0;34m(self, dtype, copy, errors)\u001b[0m\n\u001b[1;32m   2863\u001b[0m             \u001b[0;32mreturn\u001b[0m \u001b[0mself\u001b[0m\u001b[0;34m.\u001b[0m\u001b[0mcopy\u001b[0m\u001b[0;34m(\u001b[0m\u001b[0mdeep\u001b[0m\u001b[0;34m=\u001b[0m\u001b[0mcopy\u001b[0m\u001b[0;34m)\u001b[0m\u001b[0;34m\u001b[0m\u001b[0;34m\u001b[0m\u001b[0m\n\u001b[1;32m   2864\u001b[0m         \u001b[0;32mtry\u001b[0m\u001b[0;34m:\u001b[0m\u001b[0;34m\u001b[0m\u001b[0;34m\u001b[0m\u001b[0m\n\u001b[0;32m-> 2865\u001b[0;31m             \u001b[0mdata\u001b[0m \u001b[0;34m=\u001b[0m \u001b[0mself\u001b[0m\u001b[0;34m.\u001b[0m\u001b[0m_column\u001b[0m\u001b[0;34m.\u001b[0m\u001b[0mastype\u001b[0m\u001b[0;34m(\u001b[0m\u001b[0mdtype\u001b[0m\u001b[0;34m)\u001b[0m\u001b[0;34m\u001b[0m\u001b[0;34m\u001b[0m\u001b[0m\n\u001b[0m\u001b[1;32m   2866\u001b[0m \u001b[0;34m\u001b[0m\u001b[0m\n\u001b[1;32m   2867\u001b[0m             return self._from_data(\n",
      "\u001b[0;32m/opt/conda/lib/python3.7/site-packages/cudf/core/column/column.py\u001b[0m in \u001b[0;36mastype\u001b[0;34m(self, dtype, **kwargs)\u001b[0m\n\u001b[1;32m    898\u001b[0m     \u001b[0;32mdef\u001b[0m \u001b[0mastype\u001b[0m\u001b[0;34m(\u001b[0m\u001b[0mself\u001b[0m\u001b[0;34m,\u001b[0m \u001b[0mdtype\u001b[0m\u001b[0;34m:\u001b[0m \u001b[0mDtype\u001b[0m\u001b[0;34m,\u001b[0m \u001b[0;34m**\u001b[0m\u001b[0mkwargs\u001b[0m\u001b[0;34m)\u001b[0m \u001b[0;34m->\u001b[0m \u001b[0mColumnBase\u001b[0m\u001b[0;34m:\u001b[0m\u001b[0;34m\u001b[0m\u001b[0;34m\u001b[0m\u001b[0m\n\u001b[1;32m    899\u001b[0m         \u001b[0;32mif\u001b[0m \u001b[0mis_categorical_dtype\u001b[0m\u001b[0;34m(\u001b[0m\u001b[0mdtype\u001b[0m\u001b[0;34m)\u001b[0m\u001b[0;34m:\u001b[0m\u001b[0;34m\u001b[0m\u001b[0;34m\u001b[0m\u001b[0m\n\u001b[0;32m--> 900\u001b[0;31m             \u001b[0;32mreturn\u001b[0m \u001b[0mself\u001b[0m\u001b[0;34m.\u001b[0m\u001b[0mas_categorical_column\u001b[0m\u001b[0;34m(\u001b[0m\u001b[0mdtype\u001b[0m\u001b[0;34m,\u001b[0m \u001b[0;34m**\u001b[0m\u001b[0mkwargs\u001b[0m\u001b[0;34m)\u001b[0m\u001b[0;34m\u001b[0m\u001b[0;34m\u001b[0m\u001b[0m\n\u001b[0m\u001b[1;32m    901\u001b[0m \u001b[0;34m\u001b[0m\u001b[0m\n\u001b[1;32m    902\u001b[0m         dtype = (\n",
      "\u001b[0;32m/opt/conda/lib/python3.7/site-packages/cudf/core/column/column.py\u001b[0m in \u001b[0;36mas_categorical_column\u001b[0;34m(self, dtype, **kwargs)\u001b[0m\n\u001b[1;32m    964\u001b[0m         \u001b[0mcats\u001b[0m \u001b[0;34m=\u001b[0m \u001b[0msr\u001b[0m\u001b[0;34m.\u001b[0m\u001b[0munique\u001b[0m\u001b[0;34m(\u001b[0m\u001b[0;34m)\u001b[0m\u001b[0;34m.\u001b[0m\u001b[0mastype\u001b[0m\u001b[0;34m(\u001b[0m\u001b[0msr\u001b[0m\u001b[0;34m.\u001b[0m\u001b[0mdtype\u001b[0m\u001b[0;34m)\u001b[0m\u001b[0;34m\u001b[0m\u001b[0;34m\u001b[0m\u001b[0m\n\u001b[1;32m    965\u001b[0m         \u001b[0mlabel_dtype\u001b[0m \u001b[0;34m=\u001b[0m \u001b[0mmin_unsigned_type\u001b[0m\u001b[0;34m(\u001b[0m\u001b[0mlen\u001b[0m\u001b[0;34m(\u001b[0m\u001b[0mcats\u001b[0m\u001b[0;34m)\u001b[0m\u001b[0;34m)\u001b[0m\u001b[0;34m\u001b[0m\u001b[0;34m\u001b[0m\u001b[0m\n\u001b[0;32m--> 966\u001b[0;31m         \u001b[0mlabels\u001b[0m \u001b[0;34m=\u001b[0m \u001b[0msr\u001b[0m\u001b[0;34m.\u001b[0m\u001b[0mlabel_encoding\u001b[0m\u001b[0;34m(\u001b[0m\u001b[0mcats\u001b[0m\u001b[0;34m=\u001b[0m\u001b[0mcats\u001b[0m\u001b[0;34m,\u001b[0m \u001b[0mdtype\u001b[0m\u001b[0;34m=\u001b[0m\u001b[0mlabel_dtype\u001b[0m\u001b[0;34m,\u001b[0m \u001b[0mna_sentinel\u001b[0m\u001b[0;34m=\u001b[0m\u001b[0;36m1\u001b[0m\u001b[0;34m)\u001b[0m\u001b[0;34m\u001b[0m\u001b[0;34m\u001b[0m\u001b[0m\n\u001b[0m\u001b[1;32m    967\u001b[0m \u001b[0;34m\u001b[0m\u001b[0m\n\u001b[1;32m    968\u001b[0m         \u001b[0;31m# columns include null index in factorization; remove:\u001b[0m\u001b[0;34m\u001b[0m\u001b[0;34m\u001b[0m\u001b[0;34m\u001b[0m\u001b[0m\n",
      "\u001b[0;32m/opt/conda/lib/python3.7/site-packages/cudf/core/series.py\u001b[0m in \u001b[0;36mlabel_encoding\u001b[0;34m(self, cats, dtype, na_sentinel)\u001b[0m\n\u001b[1;32m   3672\u001b[0m \u001b[0;34m\u001b[0m\u001b[0m\n\u001b[1;32m   3673\u001b[0m         \u001b[0mcodes\u001b[0m \u001b[0;34m=\u001b[0m \u001b[0mcodes\u001b[0m\u001b[0;34m.\u001b[0m\u001b[0mmerge\u001b[0m\u001b[0;34m(\u001b[0m\u001b[0mvalue\u001b[0m\u001b[0;34m,\u001b[0m \u001b[0mon\u001b[0m\u001b[0;34m=\u001b[0m\u001b[0;34m\"value\"\u001b[0m\u001b[0;34m,\u001b[0m \u001b[0mhow\u001b[0m\u001b[0;34m=\u001b[0m\u001b[0;34m\"left\"\u001b[0m\u001b[0;34m)\u001b[0m\u001b[0;34m\u001b[0m\u001b[0;34m\u001b[0m\u001b[0m\n\u001b[0;32m-> 3674\u001b[0;31m         \u001b[0mcodes\u001b[0m \u001b[0;34m=\u001b[0m \u001b[0mcodes\u001b[0m\u001b[0;34m.\u001b[0m\u001b[0msort_values\u001b[0m\u001b[0;34m(\u001b[0m\u001b[0;34m\"order\"\u001b[0m\u001b[0;34m)\u001b[0m\u001b[0;34m[\u001b[0m\u001b[0;34m\"code\"\u001b[0m\u001b[0;34m]\u001b[0m\u001b[0;34m.\u001b[0m\u001b[0mfillna\u001b[0m\u001b[0;34m(\u001b[0m\u001b[0mna_sentinel\u001b[0m\u001b[0;34m)\u001b[0m\u001b[0;34m\u001b[0m\u001b[0;34m\u001b[0m\u001b[0m\n\u001b[0m\u001b[1;32m   3675\u001b[0m \u001b[0;34m\u001b[0m\u001b[0m\n\u001b[1;32m   3676\u001b[0m         \u001b[0mcodes\u001b[0m\u001b[0;34m.\u001b[0m\u001b[0mname\u001b[0m \u001b[0;34m=\u001b[0m \u001b[0;32mNone\u001b[0m\u001b[0;34m\u001b[0m\u001b[0;34m\u001b[0m\u001b[0m\n",
      "\u001b[0;32m/opt/conda/lib/python3.7/site-packages/cudf/core/dataframe.py\u001b[0m in \u001b[0;36msort_values\u001b[0;34m(self, by, axis, ascending, inplace, kind, na_position, ignore_index)\u001b[0m\n\u001b[1;32m   4059\u001b[0m         \u001b[0;31m# argsort the `by` column\u001b[0m\u001b[0;34m\u001b[0m\u001b[0;34m\u001b[0m\u001b[0;34m\u001b[0m\u001b[0m\n\u001b[1;32m   4060\u001b[0m         return self.take(\n\u001b[0;32m-> 4061\u001b[0;31m             \u001b[0mself\u001b[0m\u001b[0;34m[\u001b[0m\u001b[0mby\u001b[0m\u001b[0;34m]\u001b[0m\u001b[0;34m.\u001b[0m\u001b[0margsort\u001b[0m\u001b[0;34m(\u001b[0m\u001b[0mascending\u001b[0m\u001b[0;34m=\u001b[0m\u001b[0mascending\u001b[0m\u001b[0;34m,\u001b[0m \u001b[0mna_position\u001b[0m\u001b[0;34m=\u001b[0m\u001b[0mna_position\u001b[0m\u001b[0;34m)\u001b[0m\u001b[0;34m,\u001b[0m\u001b[0;34m\u001b[0m\u001b[0;34m\u001b[0m\u001b[0m\n\u001b[0m\u001b[1;32m   4062\u001b[0m             \u001b[0mkeep_index\u001b[0m\u001b[0;34m=\u001b[0m\u001b[0;32mnot\u001b[0m \u001b[0mignore_index\u001b[0m\u001b[0;34m,\u001b[0m\u001b[0;34m\u001b[0m\u001b[0;34m\u001b[0m\u001b[0m\n\u001b[1;32m   4063\u001b[0m         )\n",
      "\u001b[0;32m/opt/conda/lib/python3.7/site-packages/cudf/core/series.py\u001b[0m in \u001b[0;36margsort\u001b[0;34m(self, ascending, na_position)\u001b[0m\n\u001b[1;32m   2911\u001b[0m         \u001b[0mdtype\u001b[0m\u001b[0;34m:\u001b[0m \u001b[0mint64\u001b[0m\u001b[0;34m\u001b[0m\u001b[0;34m\u001b[0m\u001b[0m\n\u001b[1;32m   2912\u001b[0m         \"\"\"\n\u001b[0;32m-> 2913\u001b[0;31m         \u001b[0;32mreturn\u001b[0m \u001b[0mself\u001b[0m\u001b[0;34m.\u001b[0m\u001b[0m_sort\u001b[0m\u001b[0;34m(\u001b[0m\u001b[0mascending\u001b[0m\u001b[0;34m=\u001b[0m\u001b[0mascending\u001b[0m\u001b[0;34m,\u001b[0m \u001b[0mna_position\u001b[0m\u001b[0;34m=\u001b[0m\u001b[0mna_position\u001b[0m\u001b[0;34m)\u001b[0m\u001b[0;34m[\u001b[0m\u001b[0;36m1\u001b[0m\u001b[0;34m]\u001b[0m\u001b[0;34m\u001b[0m\u001b[0;34m\u001b[0m\u001b[0m\n\u001b[0m\u001b[1;32m   2914\u001b[0m \u001b[0;34m\u001b[0m\u001b[0m\n\u001b[1;32m   2915\u001b[0m     def sort_index(\n",
      "\u001b[0;32m/opt/conda/lib/python3.7/site-packages/cudf/core/series.py\u001b[0m in \u001b[0;36m_sort\u001b[0;34m(self, ascending, na_position)\u001b[0m\n\u001b[1;32m   3212\u001b[0m         \"\"\"\n\u001b[1;32m   3213\u001b[0m         col_keys, col_inds = self._column.sort_by_values(\n\u001b[0;32m-> 3214\u001b[0;31m             \u001b[0mascending\u001b[0m\u001b[0;34m=\u001b[0m\u001b[0mascending\u001b[0m\u001b[0;34m,\u001b[0m \u001b[0mna_position\u001b[0m\u001b[0;34m=\u001b[0m\u001b[0mna_position\u001b[0m\u001b[0;34m\u001b[0m\u001b[0;34m\u001b[0m\u001b[0m\n\u001b[0m\u001b[1;32m   3215\u001b[0m         )\n\u001b[1;32m   3216\u001b[0m         \u001b[0msr_keys\u001b[0m \u001b[0;34m=\u001b[0m \u001b[0mself\u001b[0m\u001b[0;34m.\u001b[0m\u001b[0m_from_data\u001b[0m\u001b[0;34m(\u001b[0m\u001b[0;34m{\u001b[0m\u001b[0mself\u001b[0m\u001b[0;34m.\u001b[0m\u001b[0mname\u001b[0m\u001b[0;34m:\u001b[0m \u001b[0mcol_keys\u001b[0m\u001b[0;34m}\u001b[0m\u001b[0;34m,\u001b[0m \u001b[0mself\u001b[0m\u001b[0;34m.\u001b[0m\u001b[0m_index\u001b[0m\u001b[0;34m)\u001b[0m\u001b[0;34m\u001b[0m\u001b[0;34m\u001b[0m\u001b[0m\n",
      "\u001b[0;32m/opt/conda/lib/python3.7/site-packages/cudf/core/column/column.py\u001b[0m in \u001b[0;36msort_by_values\u001b[0;34m(self, ascending, na_position)\u001b[0m\n\u001b[1;32m    880\u001b[0m     ) -> Tuple[ColumnBase, \"cudf.core.column.NumericalColumn\"]:\n\u001b[1;32m    881\u001b[0m         col_inds = self.as_frame()._get_sorted_inds(\n\u001b[0;32m--> 882\u001b[0;31m             \u001b[0mascending\u001b[0m\u001b[0;34m=\u001b[0m\u001b[0mascending\u001b[0m\u001b[0;34m,\u001b[0m \u001b[0mna_position\u001b[0m\u001b[0;34m=\u001b[0m\u001b[0mna_position\u001b[0m\u001b[0;34m\u001b[0m\u001b[0;34m\u001b[0m\u001b[0m\n\u001b[0m\u001b[1;32m    883\u001b[0m         )\n\u001b[1;32m    884\u001b[0m         \u001b[0mcol_keys\u001b[0m \u001b[0;34m=\u001b[0m \u001b[0mself\u001b[0m\u001b[0;34m.\u001b[0m\u001b[0mtake\u001b[0m\u001b[0;34m(\u001b[0m\u001b[0mcol_inds\u001b[0m\u001b[0;34m)\u001b[0m\u001b[0;34m\u001b[0m\u001b[0;34m\u001b[0m\u001b[0m\n",
      "\u001b[0;32m/opt/conda/lib/python3.7/site-packages/cudf/core/frame.py\u001b[0m in \u001b[0;36m_get_sorted_inds\u001b[0;34m(self, by, ascending, na_position)\u001b[0m\n\u001b[1;32m   2614\u001b[0m             \u001b[0mascending\u001b[0m \u001b[0;34m=\u001b[0m \u001b[0;34m[\u001b[0m\u001b[0mascending\u001b[0m\u001b[0;34m]\u001b[0m \u001b[0;34m*\u001b[0m \u001b[0mto_sort\u001b[0m\u001b[0;34m.\u001b[0m\u001b[0m_num_columns\u001b[0m\u001b[0;34m\u001b[0m\u001b[0;34m\u001b[0m\u001b[0m\n\u001b[1;32m   2615\u001b[0m \u001b[0;34m\u001b[0m\u001b[0m\n\u001b[0;32m-> 2616\u001b[0;31m         \u001b[0;32mreturn\u001b[0m \u001b[0mlibcudf\u001b[0m\u001b[0;34m.\u001b[0m\u001b[0msort\u001b[0m\u001b[0;34m.\u001b[0m\u001b[0morder_by\u001b[0m\u001b[0;34m(\u001b[0m\u001b[0mto_sort\u001b[0m\u001b[0;34m,\u001b[0m \u001b[0mascending\u001b[0m\u001b[0;34m,\u001b[0m \u001b[0mna_position\u001b[0m\u001b[0;34m)\u001b[0m\u001b[0;34m\u001b[0m\u001b[0;34m\u001b[0m\u001b[0m\n\u001b[0m\u001b[1;32m   2617\u001b[0m \u001b[0;34m\u001b[0m\u001b[0m\n\u001b[1;32m   2618\u001b[0m     \u001b[0;32mdef\u001b[0m \u001b[0msin\u001b[0m\u001b[0;34m(\u001b[0m\u001b[0mself\u001b[0m\u001b[0;34m)\u001b[0m\u001b[0;34m:\u001b[0m\u001b[0;34m\u001b[0m\u001b[0;34m\u001b[0m\u001b[0m\n",
      "\u001b[0;32mcudf/_lib/sort.pyx\u001b[0m in \u001b[0;36mcudf._lib.sort.order_by\u001b[0;34m()\u001b[0m\n",
      "\u001b[0;31mMemoryError\u001b[0m: std::bad_alloc: CUDA error at: /opt/conda/include/rmm/mr/device/cuda_memory_resource.hpp:70: cudaErrorMemoryAllocation out of memory"
     ]
    }
   ],
   "source": [
    "model = TfidfVectorizer()\n",
    "text_embeddings = model.fit_transform(train['Text']).toarray()\n",
    "print('text embeddings shape is',text_embeddings.shape)"
   ]
  },
  {
   "cell_type": "code",
   "execution_count": 10,
   "metadata": {
    "execution": {
     "iopub.execute_input": "2022-11-07T08:56:34.631777Z",
     "iopub.status.busy": "2022-11-07T08:56:34.630879Z",
     "iopub.status.idle": "2022-11-07T08:56:34.653092Z",
     "shell.execute_reply": "2022-11-07T08:56:34.652219Z",
     "shell.execute_reply.started": "2022-11-07T08:56:34.631730Z"
    }
   },
   "outputs": [
    {
     "data": {
      "text/html": [
       "<div>\n",
       "<style scoped>\n",
       "    .dataframe tbody tr th:only-of-type {\n",
       "        vertical-align: middle;\n",
       "    }\n",
       "\n",
       "    .dataframe tbody tr th {\n",
       "        vertical-align: top;\n",
       "    }\n",
       "\n",
       "    .dataframe thead th {\n",
       "        text-align: right;\n",
       "    }\n",
       "</style>\n",
       "<table border=\"1\" class=\"dataframe\">\n",
       "  <thead>\n",
       "    <tr style=\"text-align: right;\">\n",
       "      <th></th>\n",
       "      <th>Score</th>\n",
       "      <th>Text</th>\n",
       "    </tr>\n",
       "  </thead>\n",
       "  <tbody>\n",
       "    <tr>\n",
       "      <th>0</th>\n",
       "      <td>4.0</td>\n",
       "      <td>['is', 'charming', 'version', 'of', 'classic',...</td>\n",
       "    </tr>\n",
       "    <tr>\n",
       "      <th>1</th>\n",
       "      <td>3.0</td>\n",
       "      <td>['it', 'was', 'good', 'but', 'not', 'as', 'emo...</td>\n",
       "    </tr>\n",
       "    <tr>\n",
       "      <th>2</th>\n",
       "      <td>3.0</td>\n",
       "      <td>['dont', 'get', 'me', 'wrong', 'winkler', 'is'...</td>\n",
       "    </tr>\n",
       "    <tr>\n",
       "      <th>3</th>\n",
       "      <td>5.0</td>\n",
       "      <td>['henry', 'winkler', 'is', 'very', 'good', 'in...</td>\n",
       "    </tr>\n",
       "    <tr>\n",
       "      <th>4</th>\n",
       "      <td>4.0</td>\n",
       "      <td>['is', 'one', 'of', 'best', 'scrooge', 'movies...</td>\n",
       "    </tr>\n",
       "  </tbody>\n",
       "</table>\n",
       "</div>"
      ],
      "text/plain": [
       "   Score                                               Text\n",
       "0    4.0  ['is', 'charming', 'version', 'of', 'classic',...\n",
       "1    3.0  ['it', 'was', 'good', 'but', 'not', 'as', 'emo...\n",
       "2    3.0  ['dont', 'get', 'me', 'wrong', 'winkler', 'is'...\n",
       "3    5.0  ['henry', 'winkler', 'is', 'very', 'good', 'in...\n",
       "4    4.0  ['is', 'one', 'of', 'best', 'scrooge', 'movies..."
      ]
     },
     "execution_count": 10,
     "metadata": {},
     "output_type": "execute_result"
    }
   ],
   "source": [
    "train.head()"
   ]
  },
  {
   "cell_type": "code",
   "execution_count": 13,
   "metadata": {
    "execution": {
     "iopub.execute_input": "2022-11-07T08:57:32.320441Z",
     "iopub.status.busy": "2022-11-07T08:57:32.319953Z",
     "iopub.status.idle": "2022-11-07T08:57:32.341747Z",
     "shell.execute_reply": "2022-11-07T08:57:32.340702Z",
     "shell.execute_reply.started": "2022-11-07T08:57:32.320398Z"
    }
   },
   "outputs": [
    {
     "data": {
      "text/plain": [
       "0          ['is', 'charming', 'version', 'of', 'classic',...\n",
       "1          ['it', 'was', 'good', 'but', 'not', 'as', 'emo...\n",
       "2          ['dont', 'get', 'me', 'wrong', 'winkler', 'is'...\n",
       "3          ['henry', 'winkler', 'is', 'very', 'good', 'in...\n",
       "4          ['is', 'one', 'of', 'best', 'scrooge', 'movies...\n",
       "                                 ...                        \n",
       "1397475    ['looking', 'very', 'much', 'forward', 'to', '...\n",
       "1397476    ['finally', 'holy', 'grail', 'of', 'tvondvd', ...\n",
       "1397477    ['could', 'be', 'true', 'or', 'im', 'i', 'drea...\n",
       "1397478    ['ive', 'been', 'fan', 'of', 'series', 'since'...\n",
       "1397479    ['people', 'seriously', 'need', 'to', 'wake', ...\n",
       "Name: Text, Length: 1397480, dtype: object"
      ]
     },
     "execution_count": 13,
     "metadata": {},
     "output_type": "execute_result"
    }
   ],
   "source": [
    "train['Text']"
   ]
  },
  {
   "cell_type": "code",
   "execution_count": 23,
   "metadata": {
    "execution": {
     "iopub.execute_input": "2022-11-07T09:01:43.470618Z",
     "iopub.status.busy": "2022-11-07T09:01:43.470235Z",
     "iopub.status.idle": "2022-11-07T09:03:35.585424Z",
     "shell.execute_reply": "2022-11-07T09:03:35.584333Z",
     "shell.execute_reply.started": "2022-11-07T09:01:43.470585Z"
    }
   },
   "outputs": [
    {
     "name": "stderr",
     "output_type": "stream",
     "text": [
      "/opt/conda/lib/python3.7/site-packages/ipykernel_launcher.py:2: TqdmDeprecationWarning: This function will be removed in tqdm==5.0.0\n",
      "Please use `tqdm.notebook.tqdm` instead of `tqdm.tqdm_notebook`\n",
      "  \n"
     ]
    },
    {
     "data": {
      "application/vnd.jupyter.widget-view+json": {
       "model_id": "6d85c74f47df4ab79287940fd8fe047d",
       "version_major": 2,
       "version_minor": 0
      },
      "text/plain": [
       "  0%|          | 0/1397480 [00:00<?, ?it/s]"
      ]
     },
     "metadata": {},
     "output_type": "display_data"
    }
   ],
   "source": [
    "p1 = re.compile(r'[^\\w\\s]+')\n",
    "train['Text'] = [p1.sub('', x) for x in tqdm.tqdm_notebook(train['Text'].to_pandas().tolist())]\n",
    "train['Text'] = train['Text'].str.lower()"
   ]
  },
  {
   "cell_type": "code",
   "execution_count": 26,
   "metadata": {
    "execution": {
     "iopub.execute_input": "2022-11-07T09:04:25.574852Z",
     "iopub.status.busy": "2022-11-07T09:04:25.574149Z",
     "iopub.status.idle": "2022-11-07T09:04:25.595426Z",
     "shell.execute_reply": "2022-11-07T09:04:25.594423Z",
     "shell.execute_reply.started": "2022-11-07T09:04:25.574808Z"
    }
   },
   "outputs": [
    {
     "data": {
      "text/plain": [
       "0          4.0\n",
       "1          3.0\n",
       "2          3.0\n",
       "3          5.0\n",
       "4          4.0\n",
       "          ... \n",
       "1397475    4.0\n",
       "1397476    5.0\n",
       "1397477    5.0\n",
       "1397478    5.0\n",
       "1397479    5.0\n",
       "Name: Score, Length: 1397480, dtype: float64"
      ]
     },
     "execution_count": 26,
     "metadata": {},
     "output_type": "execute_result"
    }
   ],
   "source": [
    "train['Score']"
   ]
  },
  {
   "cell_type": "code",
   "execution_count": 36,
   "metadata": {
    "collapsed": true,
    "execution": {
     "iopub.execute_input": "2022-11-07T09:28:45.254980Z",
     "iopub.status.busy": "2022-11-07T09:28:45.254609Z",
     "iopub.status.idle": "2022-11-07T09:28:47.798277Z",
     "shell.execute_reply": "2022-11-07T09:28:47.795124Z",
     "shell.execute_reply.started": "2022-11-07T09:28:45.254950Z"
    },
    "jupyter": {
     "outputs_hidden": true
    }
   },
   "outputs": [
    {
     "ename": "TypeError",
     "evalue": "fit_transform() takes 2 positional arguments but 3 were given",
     "output_type": "error",
     "traceback": [
      "\u001b[0;31m---------------------------------------------------------------------------\u001b[0m",
      "\u001b[0;31mTypeError\u001b[0m                                 Traceback (most recent call last)",
      "\u001b[0;32m/tmp/ipykernel_23/4088206180.py\u001b[0m in \u001b[0;36m<module>\u001b[0;34m\u001b[0m\n\u001b[1;32m      4\u001b[0m \u001b[0;34m\u001b[0m\u001b[0m\n\u001b[1;32m      5\u001b[0m \u001b[0;31m# Feed the training data through the pipeline\u001b[0m\u001b[0;34m\u001b[0m\u001b[0;34m\u001b[0m\u001b[0;34m\u001b[0m\u001b[0m\n\u001b[0;32m----> 6\u001b[0;31m \u001b[0mtext_clf2\u001b[0m\u001b[0;34m.\u001b[0m\u001b[0mfit\u001b[0m\u001b[0;34m(\u001b[0m\u001b[0mtrain\u001b[0m\u001b[0;34m[\u001b[0m\u001b[0;34m'Text'\u001b[0m\u001b[0;34m]\u001b[0m\u001b[0;34m.\u001b[0m\u001b[0mto_pandas\u001b[0m\u001b[0;34m(\u001b[0m\u001b[0;34m)\u001b[0m\u001b[0;34m,\u001b[0m \u001b[0mtrain\u001b[0m\u001b[0;34m[\u001b[0m\u001b[0;34m'Score'\u001b[0m\u001b[0;34m]\u001b[0m\u001b[0;34m.\u001b[0m\u001b[0mto_pandas\u001b[0m\u001b[0;34m(\u001b[0m\u001b[0;34m)\u001b[0m\u001b[0;34m)\u001b[0m\u001b[0;34m\u001b[0m\u001b[0;34m\u001b[0m\u001b[0m\n\u001b[0m",
      "\u001b[0;32m/opt/conda/lib/python3.7/site-packages/sklearn/pipeline.py\u001b[0m in \u001b[0;36mfit\u001b[0;34m(self, X, y, **fit_params)\u001b[0m\n\u001b[1;32m    388\u001b[0m         \"\"\"\n\u001b[1;32m    389\u001b[0m         \u001b[0mfit_params_steps\u001b[0m \u001b[0;34m=\u001b[0m \u001b[0mself\u001b[0m\u001b[0;34m.\u001b[0m\u001b[0m_check_fit_params\u001b[0m\u001b[0;34m(\u001b[0m\u001b[0;34m**\u001b[0m\u001b[0mfit_params\u001b[0m\u001b[0;34m)\u001b[0m\u001b[0;34m\u001b[0m\u001b[0;34m\u001b[0m\u001b[0m\n\u001b[0;32m--> 390\u001b[0;31m         \u001b[0mXt\u001b[0m \u001b[0;34m=\u001b[0m \u001b[0mself\u001b[0m\u001b[0;34m.\u001b[0m\u001b[0m_fit\u001b[0m\u001b[0;34m(\u001b[0m\u001b[0mX\u001b[0m\u001b[0;34m,\u001b[0m \u001b[0my\u001b[0m\u001b[0;34m,\u001b[0m \u001b[0;34m**\u001b[0m\u001b[0mfit_params_steps\u001b[0m\u001b[0;34m)\u001b[0m\u001b[0;34m\u001b[0m\u001b[0;34m\u001b[0m\u001b[0m\n\u001b[0m\u001b[1;32m    391\u001b[0m         \u001b[0;32mwith\u001b[0m \u001b[0m_print_elapsed_time\u001b[0m\u001b[0;34m(\u001b[0m\u001b[0;34m\"Pipeline\"\u001b[0m\u001b[0;34m,\u001b[0m \u001b[0mself\u001b[0m\u001b[0;34m.\u001b[0m\u001b[0m_log_message\u001b[0m\u001b[0;34m(\u001b[0m\u001b[0mlen\u001b[0m\u001b[0;34m(\u001b[0m\u001b[0mself\u001b[0m\u001b[0;34m.\u001b[0m\u001b[0msteps\u001b[0m\u001b[0;34m)\u001b[0m \u001b[0;34m-\u001b[0m \u001b[0;36m1\u001b[0m\u001b[0;34m)\u001b[0m\u001b[0;34m)\u001b[0m\u001b[0;34m:\u001b[0m\u001b[0;34m\u001b[0m\u001b[0;34m\u001b[0m\u001b[0m\n\u001b[1;32m    392\u001b[0m             \u001b[0;32mif\u001b[0m \u001b[0mself\u001b[0m\u001b[0;34m.\u001b[0m\u001b[0m_final_estimator\u001b[0m \u001b[0;34m!=\u001b[0m \u001b[0;34m\"passthrough\"\u001b[0m\u001b[0;34m:\u001b[0m\u001b[0;34m\u001b[0m\u001b[0;34m\u001b[0m\u001b[0m\n",
      "\u001b[0;32m/opt/conda/lib/python3.7/site-packages/sklearn/pipeline.py\u001b[0m in \u001b[0;36m_fit\u001b[0;34m(self, X, y, **fit_params_steps)\u001b[0m\n\u001b[1;32m    353\u001b[0m                 \u001b[0mmessage_clsname\u001b[0m\u001b[0;34m=\u001b[0m\u001b[0;34m\"Pipeline\"\u001b[0m\u001b[0;34m,\u001b[0m\u001b[0;34m\u001b[0m\u001b[0;34m\u001b[0m\u001b[0m\n\u001b[1;32m    354\u001b[0m                 \u001b[0mmessage\u001b[0m\u001b[0;34m=\u001b[0m\u001b[0mself\u001b[0m\u001b[0;34m.\u001b[0m\u001b[0m_log_message\u001b[0m\u001b[0;34m(\u001b[0m\u001b[0mstep_idx\u001b[0m\u001b[0;34m)\u001b[0m\u001b[0;34m,\u001b[0m\u001b[0;34m\u001b[0m\u001b[0;34m\u001b[0m\u001b[0m\n\u001b[0;32m--> 355\u001b[0;31m                 \u001b[0;34m**\u001b[0m\u001b[0mfit_params_steps\u001b[0m\u001b[0;34m[\u001b[0m\u001b[0mname\u001b[0m\u001b[0;34m]\u001b[0m\u001b[0;34m,\u001b[0m\u001b[0;34m\u001b[0m\u001b[0;34m\u001b[0m\u001b[0m\n\u001b[0m\u001b[1;32m    356\u001b[0m             )\n\u001b[1;32m    357\u001b[0m             \u001b[0;31m# Replace the transformer of the step with the fitted\u001b[0m\u001b[0;34m\u001b[0m\u001b[0;34m\u001b[0m\u001b[0;34m\u001b[0m\u001b[0m\n",
      "\u001b[0;32m/opt/conda/lib/python3.7/site-packages/joblib/memory.py\u001b[0m in \u001b[0;36m__call__\u001b[0;34m(self, *args, **kwargs)\u001b[0m\n\u001b[1;32m    350\u001b[0m \u001b[0;34m\u001b[0m\u001b[0m\n\u001b[1;32m    351\u001b[0m     \u001b[0;32mdef\u001b[0m \u001b[0m__call__\u001b[0m\u001b[0;34m(\u001b[0m\u001b[0mself\u001b[0m\u001b[0;34m,\u001b[0m \u001b[0;34m*\u001b[0m\u001b[0margs\u001b[0m\u001b[0;34m,\u001b[0m \u001b[0;34m**\u001b[0m\u001b[0mkwargs\u001b[0m\u001b[0;34m)\u001b[0m\u001b[0;34m:\u001b[0m\u001b[0;34m\u001b[0m\u001b[0;34m\u001b[0m\u001b[0m\n\u001b[0;32m--> 352\u001b[0;31m         \u001b[0;32mreturn\u001b[0m \u001b[0mself\u001b[0m\u001b[0;34m.\u001b[0m\u001b[0mfunc\u001b[0m\u001b[0;34m(\u001b[0m\u001b[0;34m*\u001b[0m\u001b[0margs\u001b[0m\u001b[0;34m,\u001b[0m \u001b[0;34m**\u001b[0m\u001b[0mkwargs\u001b[0m\u001b[0;34m)\u001b[0m\u001b[0;34m\u001b[0m\u001b[0;34m\u001b[0m\u001b[0m\n\u001b[0m\u001b[1;32m    353\u001b[0m \u001b[0;34m\u001b[0m\u001b[0m\n\u001b[1;32m    354\u001b[0m     \u001b[0;32mdef\u001b[0m \u001b[0mcall_and_shelve\u001b[0m\u001b[0;34m(\u001b[0m\u001b[0mself\u001b[0m\u001b[0;34m,\u001b[0m \u001b[0;34m*\u001b[0m\u001b[0margs\u001b[0m\u001b[0;34m,\u001b[0m \u001b[0;34m**\u001b[0m\u001b[0mkwargs\u001b[0m\u001b[0;34m)\u001b[0m\u001b[0;34m:\u001b[0m\u001b[0;34m\u001b[0m\u001b[0;34m\u001b[0m\u001b[0m\n",
      "\u001b[0;32m/opt/conda/lib/python3.7/site-packages/sklearn/pipeline.py\u001b[0m in \u001b[0;36m_fit_transform_one\u001b[0;34m(transformer, X, y, weight, message_clsname, message, **fit_params)\u001b[0m\n\u001b[1;32m    891\u001b[0m     \u001b[0;32mwith\u001b[0m \u001b[0m_print_elapsed_time\u001b[0m\u001b[0;34m(\u001b[0m\u001b[0mmessage_clsname\u001b[0m\u001b[0;34m,\u001b[0m \u001b[0mmessage\u001b[0m\u001b[0;34m)\u001b[0m\u001b[0;34m:\u001b[0m\u001b[0;34m\u001b[0m\u001b[0;34m\u001b[0m\u001b[0m\n\u001b[1;32m    892\u001b[0m         \u001b[0;32mif\u001b[0m \u001b[0mhasattr\u001b[0m\u001b[0;34m(\u001b[0m\u001b[0mtransformer\u001b[0m\u001b[0;34m,\u001b[0m \u001b[0;34m\"fit_transform\"\u001b[0m\u001b[0;34m)\u001b[0m\u001b[0;34m:\u001b[0m\u001b[0;34m\u001b[0m\u001b[0;34m\u001b[0m\u001b[0m\n\u001b[0;32m--> 893\u001b[0;31m             \u001b[0mres\u001b[0m \u001b[0;34m=\u001b[0m \u001b[0mtransformer\u001b[0m\u001b[0;34m.\u001b[0m\u001b[0mfit_transform\u001b[0m\u001b[0;34m(\u001b[0m\u001b[0mX\u001b[0m\u001b[0;34m,\u001b[0m \u001b[0my\u001b[0m\u001b[0;34m,\u001b[0m \u001b[0;34m**\u001b[0m\u001b[0mfit_params\u001b[0m\u001b[0;34m)\u001b[0m\u001b[0;34m\u001b[0m\u001b[0;34m\u001b[0m\u001b[0m\n\u001b[0m\u001b[1;32m    894\u001b[0m         \u001b[0;32melse\u001b[0m\u001b[0;34m:\u001b[0m\u001b[0;34m\u001b[0m\u001b[0;34m\u001b[0m\u001b[0m\n\u001b[1;32m    895\u001b[0m             \u001b[0mres\u001b[0m \u001b[0;34m=\u001b[0m \u001b[0mtransformer\u001b[0m\u001b[0;34m.\u001b[0m\u001b[0mfit\u001b[0m\u001b[0;34m(\u001b[0m\u001b[0mX\u001b[0m\u001b[0;34m,\u001b[0m \u001b[0my\u001b[0m\u001b[0;34m,\u001b[0m \u001b[0;34m**\u001b[0m\u001b[0mfit_params\u001b[0m\u001b[0;34m)\u001b[0m\u001b[0;34m.\u001b[0m\u001b[0mtransform\u001b[0m\u001b[0;34m(\u001b[0m\u001b[0mX\u001b[0m\u001b[0;34m)\u001b[0m\u001b[0;34m\u001b[0m\u001b[0;34m\u001b[0m\u001b[0m\n",
      "\u001b[0;31mTypeError\u001b[0m: fit_transform() takes 2 positional arguments but 3 were given"
     ]
    }
   ],
   "source": [
    "text_clf2 = Pipeline([('tfidf', TfidfVectorizer()),\n",
    "                     ('rdf',RandomForestClassifier(verbose =2)),\n",
    "])\n",
    "\n",
    "# Feed the training data through the pipeline\n",
    "text_clf2.fit(train['Text'].to_pandas(), train['Score'].to_pandas()) "
   ]
  },
  {
   "cell_type": "code",
   "execution_count": null,
   "metadata": {},
   "outputs": [],
   "source": [
    "\n",
    "\n",
    "text_clf = Pipeline([('tfidf', TfidfVectorizer()),\n",
    "                     ('clf', LinearSVC(dual=False,C = 0.2,verbose =3)),\n",
    "])\n",
    "\n",
    "# Feed the training data through the pipeline\n",
    "text_clf.fit(X_train, y_train) "
   ]
  },
  {
   "cell_type": "code",
   "execution_count": 34,
   "metadata": {
    "execution": {
     "iopub.execute_input": "2022-11-07T09:25:48.702858Z",
     "iopub.status.busy": "2022-11-07T09:25:48.702496Z",
     "iopub.status.idle": "2022-11-07T09:25:54.034979Z",
     "shell.execute_reply": "2022-11-07T09:25:54.033925Z",
     "shell.execute_reply.started": "2022-11-07T09:25:48.702828Z"
    }
   },
   "outputs": [],
   "source": [
    "train.to_csv('train_preprocess.csv',index=False)"
   ]
  },
  {
   "cell_type": "code",
   "execution_count": null,
   "metadata": {},
   "outputs": [],
   "source": []
  }
 ],
 "metadata": {
  "kernelspec": {
   "display_name": "Python 3",
   "language": "python",
   "name": "python3"
  },
  "language_info": {
   "codemirror_mode": {
    "name": "ipython",
    "version": 3
   },
   "file_extension": ".py",
   "mimetype": "text/x-python",
   "name": "python",
   "nbconvert_exporter": "python",
   "pygments_lexer": "ipython3",
   "version": "3.7.4"
  }
 },
 "nbformat": 4,
 "nbformat_minor": 4
}
